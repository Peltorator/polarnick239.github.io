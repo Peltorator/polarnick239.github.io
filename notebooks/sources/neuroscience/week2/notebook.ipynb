{
 "metadata": {
  "name": "",
  "signature": "sha256:3c1f6194c7ea11bf6e1ddab16cbeab56d74c49050654d900d5f1f3bd28051f21"
 },
 "nbformat": 3,
 "nbformat_minor": 0,
 "worksheets": [
  {
   "cells": [
    {
     "cell_type": "code",
     "collapsed": false,
     "input": [
      "import numpy as np\n",
      "import matplotlib.pyplot as plt\n",
      "\n",
      "import pickle\n",
      "\n",
      "%matplotlib inline"
     ],
     "language": "python",
     "metadata": {},
     "outputs": [],
     "prompt_number": 81
    },
    {
     "cell_type": "code",
     "collapsed": false,
     "input": [
      "FILENAME = 'c1p8.pickle'\n",
      "\n",
      "with open(FILENAME, 'rb') as f:\n",
      "    data = pickle.load(f)\n",
      "\n",
      "stim = data['stim']\n",
      "rho = data['rho']"
     ],
     "language": "python",
     "metadata": {},
     "outputs": [],
     "prompt_number": 82
    },
    {
     "cell_type": "code",
     "collapsed": false,
     "input": [
      "def compute_sta(stim, rho, num_timesteps):\n",
      "    \"\"\"Compute the spike-triggered average from a stimulus and spike-train.\n",
      "    \n",
      "    Args:\n",
      "        stim: stimulus time-series\n",
      "        rho: spike-train time-series\n",
      "        num_timesteps: how many timesteps to use in STA\n",
      "        \n",
      "    Returns:\n",
      "        spike-triggered average for specified number of timesteps before spike\"\"\"\n",
      "    \n",
      "    # This command finds the indices of all of the spikes that occur\n",
      "    # after 300 ms into the recording.\n",
      "    spike_times = rho[num_timesteps-1:].nonzero()[0] + num_timesteps\n",
      "    window_start = rho[num_timesteps-1:].nonzero()[0] + 1\n",
      "    \n",
      "    # Compute the spike-triggered average of the spikes found.\n",
      "    # To do this, compute the average of all of the vectors\n",
      "    # starting 300 ms (exclusive) before a spike and ending at the time of\n",
      "    # the event (inclusive). Each of these vectors defines a list of\n",
      "    # samples that is contained within a window of 300 ms before each\n",
      "    # spike. The average of these vectors should be completed in an\n",
      "    # element-wise manner.\n",
      "    vectors_indicies = window_start.reshape(-1, 1) + np.arange(num_timesteps)\n",
      "    return np.sum(stim[vectors_indicies], axis=0) / window_start.shape[0]"
     ],
     "language": "python",
     "metadata": {},
     "outputs": [],
     "prompt_number": 83
    },
    {
     "cell_type": "code",
     "collapsed": false,
     "input": [
      "sampling_period = 2 # in ms (equal to 500 Hz)\n",
      "time_window_width = 300 # in ms\n",
      "num_timesteps = time_window_width // sampling_period\n",
      "\n",
      "sta = compute_sta(stim, rho, num_timesteps)\n",
      "\n",
      "time = (np.arange(-num_timesteps, 0) + 1) * sampling_period\n",
      "\n",
      "plt.xlabel('Time (ms)')\n",
      "plt.ylabel('Stimulus')\n",
      "plt.title('Spike-Triggered Average')\n",
      "\n",
      "plt.plot(time, sta);"
     ],
     "language": "python",
     "metadata": {},
     "outputs": [
      {
       "metadata": {},
       "output_type": "display_data",
       "png": "[encoded data removed]",
       "text": [
        "<matplotlib.figure.Figure at 0x7f13b7fea128>"
       ]
      }
     ],
     "prompt_number": 84
    }
   ],
   "metadata": {}
  }
 ]
}