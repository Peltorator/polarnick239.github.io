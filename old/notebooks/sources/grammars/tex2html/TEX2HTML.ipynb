{
 "metadata": {
  "name": "",
  "signature": "sha256:17888428fec613fc2ac5800e7621f084f17a2b0673ec19992966af49398af31f"
 },
 "nbformat": 3,
 "nbformat_minor": 0,
 "worksheets": [
  {
   "cells": [
    {
     "cell_type": "markdown",
     "metadata": {},
     "source": [
      "### This is example of ANTRL4.5 usage - translator of part of TEX syntax to HTML MathML.\n",
      "Note, that MathML currently supported only by Mozilla Firefox.\n",
      "\n",
      "To ensure that your browser supports MathML: https://developer.mozilla.org/en-US/docs/Mozilla/MathML_Project/MathML_Torture_Test"
     ]
    },
    {
     "cell_type": "code",
     "collapsed": false,
     "input": [
      "from antlr4 import CommonTokenStream, FileStream, ParseTreeWalker\n",
      "\n",
      "# This is to render HTML MathML.\n",
      "from IPython.core.display import HTML\n",
      "\n",
      "from tempfile import NamedTemporaryFile\n",
      "\n",
      "from functools import partial"
     ],
     "language": "python",
     "metadata": {},
     "outputs": [],
     "prompt_number": 1
    },
    {
     "cell_type": "code",
     "collapsed": false,
     "input": [
      "latex_str = '\\sqrt{a^2 + b_1-x^\\sqrt{y_5+717/3} + 2*39}'"
     ],
     "language": "python",
     "metadata": {},
     "outputs": [],
     "prompt_number": 2
    },
    {
     "cell_type": "markdown",
     "metadata": {},
     "source": [
      "This is how TEX renders this formula:\n",
      "$$\\sqrt{a^2 + b_1-x^\\sqrt{y_5+717/3} + 2*39}$$"
     ]
    },
    {
     "cell_type": "code",
     "collapsed": false,
     "input": [
      "tmp_file = NamedTemporaryFile()\n",
      "tmp_file.write(latex_str.encode('utf-8'))\n",
      "tmp_file.flush()"
     ],
     "language": "python",
     "metadata": {},
     "outputs": [],
     "prompt_number": 3
    },
    {
     "cell_type": "code",
     "collapsed": false,
     "input": [
      "%load latex.g4"
     ],
     "language": "python",
     "metadata": {},
     "outputs": [],
     "prompt_number": 4
    },
    {
     "cell_type": "code",
     "collapsed": false,
     "input": [
      "grammar latex;\n",
      "\n",
      "latexExpr\t:\texpr;\n",
      "\n",
      "expr\t:\taddExpr;\n",
      "\n",
      "addExpr\t:\tmultExpr (('+'|'-') multExpr)*;\n",
      "\n",
      "multExpr\t:\tindexedExpr (('*'|'/') indexedExpr)*;\n",
      "\n",
      "indexedExpr\t:\tatomExpr |\n",
      "\t\t\t\tatomExpr '^' atomExpr |\n",
      "\t\t\t\tatomExpr '_' atomExpr ;\n",
      "\n",
      "atomExpr\t:\tsqrtExpr | Number | Variable | '(' expr ')';\n",
      "sqrtExpr\t:\t'\\\\sqrt{' expr '}';\n",
      "\n",
      "\n",
      "\n",
      "Number\t:\t('0'..'9')+ ('.' ('0'..'9')+)?;\n",
      "\n",
      "Variable\t:\t('a'..'z'|'A'..'Z')+;\n",
      "\n",
      "// Ignore all white space characters\n",
      "WS : [ \\t\\r\\n]+ -> skip ;"
     ],
     "language": "python",
     "metadata": {},
     "outputs": []
    },
    {
     "cell_type": "code",
     "collapsed": false,
     "input": [
      "%%bash\n",
      "java -Xmx500M -cp antlr-4.5-complete.jar org.antlr.v4.Tool -o latex -Dlanguage=Python3 latex.g4"
     ],
     "language": "python",
     "metadata": {},
     "outputs": [],
     "prompt_number": 5
    },
    {
     "cell_type": "code",
     "collapsed": false,
     "input": [
      "# using compiled by ANTLR latex grammar ('latex.g4' file compiled by 'compile.sh' script to directory 'latex')\n",
      "from latex.latexLexer import latexLexer\n",
      "from latex.latexParser import latexParser\n",
      "from latex.latexListener import latexListener"
     ],
     "language": "python",
     "metadata": {},
     "outputs": [],
     "prompt_number": 6
    },
    {
     "cell_type": "code",
     "collapsed": false,
     "input": [
      "lexer = latexLexer(FileStream(tmp_file.name))\n",
      "stream = CommonTokenStream(lexer)\n",
      "parser = latexParser(stream)\n",
      "tree = parser.latexExpr()"
     ],
     "language": "python",
     "metadata": {},
     "outputs": [],
     "prompt_number": 7
    },
    {
     "cell_type": "code",
     "collapsed": false,
     "input": [
      "def is_terminal(node):\n",
      "    return not hasattr(node, 'getChildren')\n",
      "\n",
      "def print_tree(node, indent=0):\n",
      "    if not is_terminal(node):\n",
      "        print('{}{}: {}'.format('  ' * indent, latexParser.ruleNames[node.getRuleIndex()], node.getText()))\n",
      "        for child in node.getChildren():\n",
      "            print_tree(child, indent + 1)"
     ],
     "language": "python",
     "metadata": {},
     "outputs": [],
     "prompt_number": 8
    },
    {
     "cell_type": "code",
     "collapsed": false,
     "input": [
      "print_tree(tree)"
     ],
     "language": "python",
     "metadata": {},
     "outputs": [
      {
       "output_type": "stream",
       "stream": "stdout",
       "text": [
        "latexExpr: \\sqrt{a^2+b_1-x^\\sqrt{y_5+717/3}+2*39}\n",
        "  expr: \\sqrt{a^2+b_1-x^\\sqrt{y_5+717/3}+2*39}\n",
        "    addExpr: \\sqrt{a^2+b_1-x^\\sqrt{y_5+717/3}+2*39}\n",
        "      multExpr: \\sqrt{a^2+b_1-x^\\sqrt{y_5+717/3}+2*39}\n",
        "        indexedExpr: \\sqrt{a^2+b_1-x^\\sqrt{y_5+717/3}+2*39}\n",
        "          atomExpr: \\sqrt{a^2+b_1-x^\\sqrt{y_5+717/3}+2*39}\n",
        "            sqrtExpr: \\sqrt{a^2+b_1-x^\\sqrt{y_5+717/3}+2*39}\n",
        "              expr: a^2+b_1-x^\\sqrt{y_5+717/3}+2*39\n",
        "                addExpr: a^2+b_1-x^\\sqrt{y_5+717/3}+2*39\n",
        "                  multExpr: a^2\n",
        "                    indexedExpr: a^2\n",
        "                      atomExpr: a\n",
        "                      atomExpr: 2\n",
        "                  multExpr: b_1\n",
        "                    indexedExpr: b_1\n",
        "                      atomExpr: b\n",
        "                      atomExpr: 1\n",
        "                  multExpr: x^\\sqrt{y_5+717/3}\n",
        "                    indexedExpr: x^\\sqrt{y_5+717/3}\n",
        "                      atomExpr: x\n",
        "                      atomExpr: \\sqrt{y_5+717/3}\n",
        "                        sqrtExpr: \\sqrt{y_5+717/3}\n",
        "                          expr: y_5+717/3\n",
        "                            addExpr: y_5+717/3\n",
        "                              multExpr: y_5\n",
        "                                indexedExpr: y_5\n",
        "                                  atomExpr: y\n",
        "                                  atomExpr: 5\n",
        "                              multExpr: 717/3\n",
        "                                indexedExpr: 717\n",
        "                                  atomExpr: 717\n",
        "                                indexedExpr: 3\n",
        "                                  atomExpr: 3\n",
        "                  multExpr: 2*39\n",
        "                    indexedExpr: 2\n",
        "                      atomExpr: 2\n",
        "                    indexedExpr: 39\n",
        "                      atomExpr: 39\n"
       ]
      }
     ],
     "prompt_number": 9
    },
    {
     "cell_type": "code",
     "collapsed": false,
     "input": [
      "class LatexToMathML(latexListener):\n",
      "    \n",
      "    def __init__(self):\n",
      "        super(LatexToMathML, self).__init__()\n",
      "        self._wrap_tree('LatexExpr', '<math display=\"block\">', '</math>')\n",
      "        self._wrap_tree('SqrtExpr', '<msqrt>', '</msqrt>')\n",
      "        index_symbol_to_tag = lambda symbol: 'msup' if symbol is '^' else 'msub'\n",
      "        self._wrap_tree('IndexedExpr', lambda ctx: None if ctx.getChildCount() == 1 else '<{}>'.format(index_symbol_to_tag(ctx.getChild(1).getText())),\n",
      "                                       lambda ctx: None if ctx.getChildCount() == 1 else '</{}>'.format(index_symbol_to_tag(ctx.getChild(1).getText())))\n",
      "        self._wrap_tree('AtomExpr', lambda ctx: '<mi>{}</mi>'.format(ctx.getText()) if ctx.Variable()\n",
      "                                                else '<mn>{}</mn>'.format(ctx.getText()) if ctx.Number()\n",
      "                                                else None,\n",
      "                                    lambda ctx: '' if ctx.Variable() or ctx.Number() else None)\n",
      "        latex_operator_to_mathml = {'+': '<mo>+</mo>',\n",
      "                                    '-': '<mo>-</mo>',\n",
      "                                    '*': '<mo>*</mo>',\n",
      "                                    '/': '<mo>/</mo>',\n",
      "                                    None: None}\n",
      "        for name in ['MultExpr', 'IndexedExpr']:\n",
      "            self._add_before(name, lambda ctx: self._add_line(latex_operator_to_mathml[self._get_previous_operator(ctx)] if self._get_previous_operator(ctx) in latex_operator_to_mathml else ctx))        \n",
      "        \n",
      "        self.html_str = ''\n",
      "        self._ident = 0\n",
      "\n",
      "    def _add_line(self, string, ident_delta=0):\n",
      "        if ident_delta < 0:\n",
      "            self._ident += ident_delta\n",
      "        if string:\n",
      "            self.html_str += '\\n' + ('\\t' * self._ident) + string\n",
      "        if ident_delta > 0:\n",
      "            self._ident += ident_delta\n",
      "\n",
      "    def _wrap_tree(self, name, prefix=None, suffix=None):\n",
      "        def add_generate_line(ctx, string_builder, ident_delta):\n",
      "            if string_builder is None:\n",
      "                string = None\n",
      "            elif isinstance(string_builder, str):\n",
      "                string = string_builder\n",
      "            else:\n",
      "                string = string_builder(ctx)\n",
      "            if string is not None:\n",
      "                self._add_line(string, ident_delta)\n",
      "        setattr(self, 'enter' + name, partial(add_generate_line, string_builder=prefix, ident_delta=1))\n",
      "        setattr(self, 'exit' + name, partial(add_generate_line, string_builder=suffix, ident_delta=-1))\n",
      "        \n",
      "    def _get_previous_operator(self, ctx):\n",
      "        parent = ctx.parentCtx\n",
      "        children = list(parent.getChildren())\n",
      "        index = children.index(ctx)\n",
      "        if index == 0:\n",
      "            return None\n",
      "        return children[index - 1].getText()\n",
      "        \n",
      "    def _add_before(self, name, callback):\n",
      "        enter_func = getattr(self, 'enter' + name)\n",
      "        def merged(ctx):\n",
      "            enter_func(ctx)\n",
      "            callback(ctx)\n",
      "        setattr(self, 'enter' + name, merged)\n",
      "\n",
      "converter = LatexToMathML()\n",
      "walker = ParseTreeWalker()\n",
      "walker.walk(converter, tree)\n",
      "math_ml_html = converter.html_str\n",
      "\n",
      "print(math_ml_html)"
     ],
     "language": "python",
     "metadata": {},
     "outputs": [
      {
       "output_type": "stream",
       "stream": "stdout",
       "text": [
        "\n",
        "<math display=\"block\">\n",
        "\t<msqrt>\n",
        "\t\t<msup>\n",
        "\t\t\t<mi>a</mi>\n",
        "\t\t\t<mn>2</mn>\n",
        "\t\t</msup>\n",
        "\t\t<mo>+</mo>\n",
        "\t\t<msub>\n",
        "\t\t\t<mi>b</mi>\n",
        "\t\t\t<mn>1</mn>\n",
        "\t\t</msub>\n",
        "\t\t<mo>-</mo>\n",
        "\t\t<msup>\n",
        "\t\t\t<mi>x</mi>\n",
        "\t\t\t<msqrt>\n",
        "\t\t\t\t<msub>\n",
        "\t\t\t\t\t<mi>y</mi>\n",
        "\t\t\t\t\t<mn>5</mn>\n",
        "\t\t\t\t</msub>\n",
        "\t\t\t\t<mo>+</mo>\n",
        "\t\t\t\t<mn>717</mn>\n",
        "\t\t\t\t<mo>/</mo>\n",
        "\t\t\t\t<mn>3</mn>\n",
        "\t\t\t</msqrt>\n",
        "\t\t</msup>\n",
        "\t\t<mo>+</mo>\n",
        "\t\t<mn>2</mn>\n",
        "\t\t<mo>*</mo>\n",
        "\t\t<mn>39</mn>\n",
        "\t</msqrt>\n",
        "</math>\n"
       ]
      }
     ],
     "prompt_number": 10
    },
    {
     "cell_type": "code",
     "collapsed": false,
     "input": [
      "HTML(math_ml_html)"
     ],
     "language": "python",
     "metadata": {},
     "outputs": [
      {
       "html": [
        "\n",
        "<math display=\"block\">\n",
        "\t<msqrt>\n",
        "\t\t<msup>\n",
        "\t\t\t<mi>a</mi>\n",
        "\t\t\t<mn>2</mn>\n",
        "\t\t</msup>\n",
        "\t\t<mo>+</mo>\n",
        "\t\t<msub>\n",
        "\t\t\t<mi>b</mi>\n",
        "\t\t\t<mn>1</mn>\n",
        "\t\t</msub>\n",
        "\t\t<mo>-</mo>\n",
        "\t\t<msup>\n",
        "\t\t\t<mi>x</mi>\n",
        "\t\t\t<msqrt>\n",
        "\t\t\t\t<msub>\n",
        "\t\t\t\t\t<mi>y</mi>\n",
        "\t\t\t\t\t<mn>5</mn>\n",
        "\t\t\t\t</msub>\n",
        "\t\t\t\t<mo>+</mo>\n",
        "\t\t\t\t<mn>717</mn>\n",
        "\t\t\t\t<mo>/</mo>\n",
        "\t\t\t\t<mn>3</mn>\n",
        "\t\t\t</msqrt>\n",
        "\t\t</msup>\n",
        "\t\t<mo>+</mo>\n",
        "\t\t<mn>2</mn>\n",
        "\t\t<mo>*</mo>\n",
        "\t\t<mn>39</mn>\n",
        "\t</msqrt>\n",
        "</math>"
       ],
       "metadata": {},
       "output_type": "pyout",
       "prompt_number": 11,
       "text": [
        "<IPython.core.display.HTML at 0x7f081c6d8630>"
       ]
      }
     ],
     "prompt_number": 11
    },
    {
     "cell_type": "markdown",
     "metadata": {},
     "source": [
      "This is how TEX renders this formula:\n",
      "$$\\sqrt{a^2 + b_1-x^\\sqrt{y_5+717/3} + 2*39}$$"
     ]
    }
   ],
   "metadata": {}
  }
 ]
}