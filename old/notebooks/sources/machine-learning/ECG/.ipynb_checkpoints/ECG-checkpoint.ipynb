{
 "metadata": {
  "name": "",
  "signature": "sha256:1159be3fc9dacdce0ea0249896aff0d15d7032f0cab39a16bdb4d0f00f26f238"
 },
 "nbformat": 3,
 "nbformat_minor": 0,
 "worksheets": [
  {
   "cells": [
    {
     "cell_type": "code",
     "collapsed": false,
     "input": [
      "import numpy as np\n",
      "from matplotlib import pyplot as plt\n",
      "\n",
      "from numpy import array"
     ],
     "language": "python",
     "metadata": {},
     "outputs": [],
     "prompt_number": 8
    },
    {
     "cell_type": "code",
     "collapsed": false,
     "input": [
      "def read_X(filename):\n",
      "    X = list()\n",
      "    with open(filename) as f:\n",
      "        while True:\n",
      "            line = f.readline()\n",
      "            if not line:\n",
      "                break\n",
      "            amplitudes = [int(x) for x in line.strip().split(',')]\n",
      "            intervals = [int(x) for x in f.readline().strip().split(',')]\n",
      "            \n",
      "            f.readline() # skip an empty line\n",
      "            X.append(array([amplitudes, intervals]))\n",
      "    return array(X)"
     ],
     "language": "python",
     "metadata": {},
     "outputs": [],
     "prompt_number": 9
    },
    {
     "cell_type": "code",
     "collapsed": false,
     "input": [
      "X_train_ecg = read_X('data/X.train.csv')\n",
      "X_test_ecg = read_X('data/X.test.csv')\n",
      "print(len(X_train_ecg), len(X_test_ecg))"
     ],
     "language": "python",
     "metadata": {},
     "outputs": [
      {
       "output_type": "stream",
       "stream": "stdout",
       "text": [
        "900 903\n"
       ]
      }
     ],
     "prompt_number": 10
    },
    {
     "cell_type": "code",
     "collapsed": false,
     "input": [
      "y_train = list()\n",
      "for line in open('data/y.train.csv'):\n",
      "    y_train.append(int(line))\n",
      "y_train = array(y_train)\n",
      "print(len(y_train))"
     ],
     "language": "python",
     "metadata": {},
     "outputs": [
      {
       "output_type": "stream",
       "stream": "stdout",
       "text": [
        "900\n"
       ]
      }
     ],
     "prompt_number": 11
    },
    {
     "cell_type": "code",
     "collapsed": false,
     "input": [
      "# train_mask = np.random.rand(len(X_train_ecg)) < 0.5\n",
      "# X_train_ecg1 = X_train_ecg[train_mask]\n",
      "# X_train_ecg2 = X_train_ecg[~train_mask]\n",
      "# y_train1 = y_train[train_mask]\n",
      "# y_train2 = y_train[~train_mask]\n",
      "\n",
      "step = 60\n",
      "parts = len(X_train_ecg[0, 1]) // step\n",
      "print('Steps: {}, parts: {}'.format(step, parts))\n",
      "\n",
      "tmp = []\n",
      "for i, amps_ints in enumerate(X_test_ecg):\n",
      "    for j in range(0, len(amps_ints[0]), step):\n",
      "        tmp.append(amps_ints[:, j:j+step])\n",
      "X_test_ecg = array(tmp)\n",
      "\n",
      "tmp = []\n",
      "y_tmp = []\n",
      "for i, amps_ints in enumerate(X_train_ecg):\n",
      "    for j in range(0, len(amps_ints[0]), step):\n",
      "        tmp.append(amps_ints[:, j:j+step])\n",
      "        y_tmp.append(y_train[i])\n",
      "X_train_ecg = array(tmp)\n",
      "y_train = array(y_tmp)\n",
      "\n",
      "# tmp = []\n",
      "# y_tmp = []\n",
      "# for i, amps_ints in enumerate(X_train_ecg1):\n",
      "#     for j in range(0, len(amps_ints[0]), step):\n",
      "#         tmp.append(amps_ints[:, j:j+step])\n",
      "#         y_tmp.append(y_train1[i])\n",
      "# X_train_ecg1 = array(tmp)\n",
      "# y_train1 = array(y_tmp)\n",
      "\n",
      "# tmp = []\n",
      "# y_tmp = []\n",
      "# for i, amps_ints in enumerate(X_train_ecg2):\n",
      "#     for j in range(0, len(amps_ints[0]), step):\n",
      "#         tmp.append(amps_ints[:, j:j+step])\n",
      "#         y_tmp.append(y_train2[i])\n",
      "# X_train_ecg2 = array(tmp)\n",
      "# y_train2 = array(y_tmp)"
     ],
     "language": "python",
     "metadata": {},
     "outputs": [
      {
       "output_type": "stream",
       "stream": "stdout",
       "text": [
        "Steps: 60, parts: 10\n"
       ]
      }
     ],
     "prompt_number": 12
    },
    {
     "cell_type": "code",
     "collapsed": false,
     "input": [
      "train_x = X_train_ecg\n",
      "train_y = y_train\n",
      "test_x = X_test_ecg"
     ],
     "language": "python",
     "metadata": {},
     "outputs": [],
     "prompt_number": 13
    },
    {
     "cell_type": "code",
     "collapsed": false,
     "input": [
      "def discretize(X):\n",
      "    discrete = list()\n",
      "    for amps, ints in X:\n",
      "        amps = array(amps).astype(float)\n",
      "        ints = array(ints).astype(float)\n",
      "        alphas = np.arctan(amps / ints)\n",
      "\n",
      "        amps = np.diff(amps)\n",
      "        ints = np.diff(ints)\n",
      "        alphas = np.diff(alphas)\n",
      "\n",
      "        s = list()\n",
      "        for ind, r, t, a in zip(range(len(amps)), amps, ints, alphas):\n",
      "            c = 'x'\n",
      "            if r > 0 and t > 0 and a > 0:\n",
      "                c = 'a'\n",
      "            if r <= 0 and t <= 0 and a > 0:\n",
      "                c = 'b'\n",
      "            if r > 0 and t <= 0 and a > 0:\n",
      "                c = 'c'\n",
      "            if r <= 0 and t > 0 and a <= 0:\n",
      "                c = 'd'\n",
      "            if r > 0 and t > 0 and a <= 0:\n",
      "                c = 'e'\n",
      "            if r <= 0 and t <= 0 and a <= 0:\n",
      "                c = 'f'\n",
      "            if c == 'x':\n",
      "                print('Very strange!!!', ind, r, t, a)\n",
      "            s.append(c)\n",
      "\n",
      "        discrete.append(s)\n",
      "    return discrete"
     ],
     "language": "python",
     "metadata": {},
     "outputs": [],
     "prompt_number": 14
    },
    {
     "cell_type": "code",
     "collapsed": false,
     "input": [
      "X_train_discrete = discretize(train_x)\n",
      "X_test_discrete = discretize(test_x)\n",
      "print(len(X_train_discrete), len(X_test_discrete))"
     ],
     "language": "python",
     "metadata": {},
     "outputs": [
      {
       "output_type": "stream",
       "stream": "stdout",
       "text": [
        "9000 9030\n"
       ]
      },
      {
       "output_type": "stream",
       "stream": "stderr",
       "text": [
        "-c:6: RuntimeWarning: divide by zero encountered in true_divide\n"
       ]
      }
     ],
     "prompt_number": 15
    },
    {
     "cell_type": "code",
     "collapsed": false,
     "input": [
      "from collections import defaultdict\n",
      "from itertools import product\n",
      "\n",
      "def vectorize(discrete):\n",
      "    vectorized = list()\n",
      "    for element in discrete:\n",
      "        current = defaultdict(int)\n",
      "        n = len(element)\n",
      "        for j in range(0, n - 3, 1):\n",
      "            current[tuple(element[j:j+3])] += 1\n",
      "\n",
      "        vect = list()\n",
      "        for a, b, c in product('abcdef', 'abcdef', 'abcdef'):\n",
      "            vect.append(current[(a, b, c)])\n",
      "        vectorized.append(vect)\n",
      "    return array(vectorized).astype(float)"
     ],
     "language": "python",
     "metadata": {},
     "outputs": [],
     "prompt_number": 16
    },
    {
     "cell_type": "code",
     "collapsed": false,
     "input": [
      "X_train = vectorize(X_train_discrete)\n",
      "X_test = vectorize(X_test_discrete)\n",
      "print(X_train.shape, X_test.shape)"
     ],
     "language": "python",
     "metadata": {},
     "outputs": [
      {
       "output_type": "stream",
       "stream": "stdout",
       "text": [
        "(9000, 216) (9030, 216)\n"
       ]
      }
     ],
     "prompt_number": 17
    },
    {
     "cell_type": "code",
     "collapsed": false,
     "input": [
      "from sklearn.grid_search import GridSearchCV\n",
      "from sklearn.neighbors import KNeighborsClassifier as KNN\n",
      "from sklearn.metrics import roc_auc_score\n",
      "\n",
      "params = {'n_neighbors': np.arange(100, 101, 10)}\n",
      "grid_searcher = GridSearchCV(KNN(),\\\n",
      "                             params, cv=5, scoring='roc_auc', n_jobs=3)\n",
      "grid_searcher.fit(X_train, train_y)\n",
      "\n",
      "print(grid_searcher.best_score_)\n",
      "print(grid_searcher.best_estimator_)"
     ],
     "language": "python",
     "metadata": {},
     "outputs": [
      {
       "output_type": "stream",
       "stream": "stdout",
       "text": [
        "0.939784036624\n",
        "KNeighborsClassifier(algorithm='auto', leaf_size=30, metric='minkowski',\n",
        "           metric_params=None, n_neighbors=100, p=2, weights='uniform')\n"
       ]
      }
     ],
     "prompt_number": 18
    },
    {
     "cell_type": "code",
     "collapsed": false,
     "input": [
      "def plot_quality(grid_searcher, param_name):\n",
      "    means = []\n",
      "    stds = []\n",
      "    for elem in grid_searcher.grid_scores_:\n",
      "        means.append(np.mean(elem.cv_validation_scores))\n",
      "        stds.append(np.sqrt(np.var(elem.cv_validation_scores)))\n",
      "    means = array(means)\n",
      "    stds = array(stds)\n",
      "    \n",
      "    params = grid_searcher.param_grid\n",
      "    \n",
      "    plt.figure(figsize=(8, 6))\n",
      "    plt.plot(params[param_name], means)\n",
      "    plt.fill_between(params[param_name], \\\n",
      "                 means + stds, means - stds, alpha = 0.3, facecolor='blue')\n",
      "    plt.xlabel(param_name)\n",
      "    plt.ylabel('AUC')"
     ],
     "language": "python",
     "metadata": {},
     "outputs": [],
     "prompt_number": 19
    },
    {
     "cell_type": "code",
     "collapsed": false,
     "input": [
      "# plot_quality(grid_searcher, 'n_neighbors')"
     ],
     "language": "python",
     "metadata": {},
     "outputs": [
      {
       "metadata": {},
       "output_type": "display_data",
       "png": "[encoded data removed]",
       "text": [
        "<matplotlib.figure.Figure at 0x7f0a24055048>"
       ]
      }
     ],
     "prompt_number": 20
    },
    {
     "cell_type": "code",
     "collapsed": false,
     "input": [
      "clf = grid_searcher.best_estimator_.fit(X_train, train_y)\n",
      "results = clf.predict_proba(X_test)[:, 1]\n",
      "f = open('y.test.baseline.csv', 'w')\n",
      "f.write('Id,Prediction\\n')\n",
      "for i in range(0, len(results), parts):\n",
      "    result = np.average(results[i:i+parts])\n",
      "    if result > 0.7:\n",
      "        result = 1.0\n",
      "    elif result < 0.3:\n",
      "        result = 0.0\n",
      "    f.write(str(i//parts+1) + ',' + str(result) + '\\n')\n",
      "# for i, result in enumerate(results):\n",
      "#     f.write(str(i+1) + ',' + str(result) + '\\n')\n",
      "f.close()"
     ],
     "language": "python",
     "metadata": {},
     "outputs": [],
     "prompt_number": 21
    },
    {
     "cell_type": "code",
     "collapsed": false,
     "input": [
      "# test_results = clf.predict_proba(X_train)[:, 1]"
     ],
     "language": "python",
     "metadata": {},
     "outputs": [],
     "prompt_number": 22
    },
    {
     "cell_type": "code",
     "collapsed": false,
     "input": [
      "# diffs = []\n",
      "# for i in range(0, len(test_results), parts):\n",
      "#     res = 0 if np.average(test_results[i:i+parts]) < 0.3 else 1\n",
      "#     resTrue = np.average(y_train2[i:i+parts])\n",
      "#     if res != resTrue:\n",
      "#         diffs.append(np.average(test_results[i:i+parts]))\n",
      "# print(len(diffs) / len(X_train2))"
     ],
     "language": "python",
     "metadata": {},
     "outputs": [],
     "prompt_number": 23
    }
   ],
   "metadata": {}
  }
 ]
}