{
 "metadata": {
  "name": "",
  "signature": "sha256:538fa323ab8d173fb5909a4c80cfa9f39445f4ff02746c255d8eb4429462fed3"
 },
 "nbformat": 3,
 "nbformat_minor": 0,
 "worksheets": [
  {
   "cells": [
    {
     "cell_type": "markdown",
     "metadata": {},
     "source": [
      "\u0412\u044b\u043f\u043e\u043b\u043d\u0438\u043b: \u041f\u043e\u043b\u044f\u0440\u043d\u044b\u0439 \u041d\u0438\u043a\u043e\u043b\u0430\u0439, \u0433\u0440\u0443\u043f\u043f\u0430 3539\n",
      "\u0412\u0430\u0440\u0438\u0430\u043d\u0442 14"
     ]
    },
    {
     "cell_type": "markdown",
     "metadata": {},
     "source": [
      "##\u0417\u0430\u0434\u0430\u043d\u0438\u0435 1\n",
      "\u041c\u0435\u0442\u043e\u0434\u043e\u043c \u041c\u043e\u043d\u0442\u0435-\u041a\u0430\u0440\u043b\u043e \u043e\u0446\u0435\u043d\u0438\u0442\u044c \u043e\u0431\u044a\u0435\u043c \u0447\u0430\u0441\u0442\u0438 \u0442\u0435\u043b\u0430 F(x)<=c \u0437\u0430\u043a\u043b\u044e\u0447\u0435\u043d\u043d\u043e\u0439 \u0432 k-\u043c\u0435\u0440\u043d\u043e\u043c \u043a\u0443\u0431\u0435 \u0441 \u0440\u0435\u0431\u0440\u043e\u043c [0, 1].\n",
      "\u0424\u0443\u043d\u043a\u0446\u0438\u044f \u0438\u043c\u0435\u0435\u0442 \u0432\u0438\u0434 F(x)=f(x1)+f(x2)+...+f(xk).\n",
      "\u0414\u043b\u044f \u0432\u044b\u0431\u0440\u0430\u043d\u043d\u043e\u0439 \u043d\u0430\u0434\u0435\u0436\u043d\u043e\u0441\u0442\u0438 y>=0.95 \u0443\u043a\u0430\u0437\u0430\u0442\u044c \u0430\u0441\u0438\u043c\u043f\u0442\u043e\u0442\u0438\u0447\u0435\u0441\u043a\u0443\u044e \u0442\u043e\u0447\u043d\u043e\u0441\u0442\u044c \u043e\u0446\u0435\u043d\u0438\u0432\u0430\u043d\u0438\u044f \u0438 \u043f\u043e\u0441\u0442\u0440\u043e\u0438\u0442\u044c \u0430\u0441\u0438\u043c\u043f\u0442\u043e\u0442\u0438\u0447\u0435\u0441\u043a\u0438\u0439 \u0434\u043e\u0432\u0435\u0440\u0438\u0442\u0435\u043b\u044c\u043d\u044b\u0439 \u0438\u043d\u0442\u0435\u0440\u0432\u0430\u043b \u0434\u043b\u044f \u0438\u0441\u0442\u0438\u043d\u043d\u043e\u0433\u043e \u0437\u043d\u0430\u0447\u0435\u043d\u0438\u044f \u043e\u0431\u044a\u0435\u043c\u0430.\n",
      "\n",
      "\u0418\u0441\u043f\u043e\u043b\u044c\u0437\u0443\u044f \u043e\u0431\u044a\u0435\u043c \u0432\u044b\u0431\u043e\u0440\u043a\u0438 n=10^4 \u0438 n=10^6 \u043e\u0446\u0435\u043d\u0438\u0442\u044c \u0441\u043a\u043e\u0440\u043e\u0441\u0442\u044c \u0441\u0445\u043e\u0434\u0438\u043c\u043e\u0441\u0442\u0438 \u0438 \u043f\u043e\u043a\u0430\u0437\u0430\u0442\u044c, \u0447\u0442\u043e \u0434\u043e\u0432\u0435\u0440\u0438\u0442\u0435\u043b\u044c\u043d\u044b\u0435 \u0438\u043d\u0442\u0435\u0440\u0432\u0430\u043b\u044b \u043f\u0435\u0440\u0435\u0441\u043a\u0430\u044e\u0442\u0441\u044f.\n",
      "\n",
      "\u0410\u043d\u0430\u043b\u043e\u0433\u0438\u0447\u043d\u043e \u043f\u043e\u0441\u0442\u0440\u043e\u0438\u0442\u044c \u043e\u0446\u0435\u043d\u043a\u0443 \u0438\u043d\u0442\u0435\u0433\u0440\u0430\u043b\u043e\u0432 (\u043f\u0440\u0435\u0434\u0441\u0442\u0430\u0432\u0438\u0442\u044c \u0438\u043d\u0442\u0435\u0433\u0440\u0430\u043b \u043a\u0430\u043a \u043c\u0430\u0442\u0435\u043c\u0430\u0442\u0438\u0447\u0435\u0441\u043a\u043e\u0435 \u043e\u0436\u0438\u0434\u0430\u043d\u0438\u0435 \u0444\u0443\u043d\u043a\u0446\u0438\u0438,\n",
      "\u0437\u0430\u0432\u0438\u0441\u044f\u0449\u0435\u0439 \u043e\u0442 \u0441\u043b\u0443\u0447\u0430\u0439\u043d\u043e\u0439 \u0432\u0435\u043b\u0438\u0447\u0438\u043d\u044b \u0441 \u0438\u0437\u0432\u0435\u0441\u0442\u043d\u043e\u0439 \u043f\u043b\u043e\u0442\u043d\u043e\u0441\u0442\u044c\u044e) \u0438 \u0434\u043b\u044f \u0432\u044b\u0431\u0440\u0430\u043d\u043d\u043e\u0439 \u043d\u0430\u0434\u0435\u0436\u043d\u043e\u0441\u0442\u0438 y>=0.95 \u0443\u043a\u0430\u0437\u0430\u0442\u044c \u0430\u0441\u0438\u043c\u043f\u0442\u043e\u0442\u0438\u0447\u0435\u0441\u043a\u0443\u044e \u0442\u043e\u0447\u043d\u043e\u0441\u0442\u044c \u043e\u0446\u0435\u043d\u0438\u0432\u0430\u043d\u0438\u044f \u0438 \u043f\u043e\u0441\u0442\u0440\u043e\u0438\u0442\u044c \u0430\u0441\u0438\u043c\u043f\u0442\u043e\u0442\u0438\u0447\u0435\u0441\u043a\u0438\u0439 \u0434\u043e\u0432\u0435\u0440\u0438\u0442\u0435\u043b\u044c\u043d\u044b\u0439 \u0438\u043d\u0442\u0435\u0440\u0432\u0430\u043b \u0434\u043b\u044f \u0438\u0441\u0442\u0438\u043d\u043d\u043e\u0433\u043e \u0437\u043d\u0430\u0447\u0435\u043d\u0438\u044f \u0438\u043d\u0442\u0435\u0433\u0440\u0430\u043b\u0430."
     ]
    },
    {
     "cell_type": "code",
     "collapsed": false,
     "input": [
      "import math\n",
      "\n",
      "import numpy as np\n",
      "from numpy import random as rand\n",
      "\n",
      "from scipy.stats import norm\n",
      "\n",
      "from matplotlib import pyplot as plt\n",
      "\n",
      "%matplotlib inline"
     ],
     "language": "python",
     "metadata": {},
     "outputs": [],
     "prompt_number": 1
    },
    {
     "cell_type": "markdown",
     "metadata": {},
     "source": [
      "gamma=0.95, k=5, c=1.4, a=math.pi, f(x)=x^a"
     ]
    },
    {
     "cell_type": "code",
     "collapsed": false,
     "input": [
      "gamma = 0.95\n",
      "k = 5\n",
      "c = 1.4\n",
      "a = math.pi\n",
      "f = lambda x: x**a\n",
      "\n",
      "n1, n2 = 10**4, 10**6"
     ],
     "language": "python",
     "metadata": {},
     "outputs": [],
     "prompt_number": 2
    },
    {
     "cell_type": "code",
     "collapsed": false,
     "input": [
      "rand.seed(239)"
     ],
     "language": "python",
     "metadata": {},
     "outputs": [],
     "prompt_number": 3
    },
    {
     "cell_type": "code",
     "collapsed": false,
     "input": [
      "def get_interval(n, gamma):\n",
      "    X = rand.rand(n, k)\n",
      "    F = f(X).sum(axis=1)\n",
      "    plt.hist(F, color='#eeefff')\n",
      "    V = 1.0 * (np.sum(F < c) / n)\n",
      "    T = norm.ppf((1+gamma) / 2)\n",
      "    d=T*np.std(F[F<c])/np.sqrt(n)\n",
      "    return V-d, V+d"
     ],
     "language": "python",
     "metadata": {},
     "outputs": [],
     "prompt_number": 4
    },
    {
     "cell_type": "code",
     "collapsed": false,
     "input": [
      "l1, r1 = get_interval(n1, gamma)\n",
      "len1 = r1 - l1\n",
      "print('\u0414\u043e\u0432\u0435\u0440\u0438\u0442\u0435\u043b\u044c\u043d\u044b\u0439 \u0438\u043d\u0442\u0435\u0440\u0432\u0430\u043b: [{}, {}]. \u0414\u043b\u0438\u043d\u0430 = {}'.format(l1, r1, len1))"
     ],
     "language": "python",
     "metadata": {},
     "outputs": [
      {
       "output_type": "stream",
       "stream": "stdout",
       "text": [
        "\u0414\u043e\u0432\u0435\u0440\u0438\u0442\u0435\u043b\u044c\u043d\u044b\u0439 \u0438\u043d\u0442\u0435\u0440\u0432\u0430\u043b: [0.633967259860468, 0.6478327401395321]. \u0414\u043b\u0438\u043d\u0430 = 0.01386548027906409\n"
       ]
      },
      {
       "metadata": {},
       "output_type": "display_data",
       "png": "[encoded data removed]",
       "text": [
        "<matplotlib.figure.Figure at 0x7f06936afa90>"
       ]
      }
     ],
     "prompt_number": 5
    },
    {
     "cell_type": "code",
     "collapsed": false,
     "input": [
      "l2, r2 = get_interval(n2, gamma)\n",
      "len2 = r2 - l2\n",
      "print('\u0414\u043e\u0432\u0435\u0440\u0438\u0442\u0435\u043b\u044c\u043d\u044b\u0439 \u0438\u043d\u0442\u0435\u0440\u0432\u0430\u043b: [{}, {}]. \u0414\u043b\u0438\u043d\u0430 = {}'.format(l2, r2, len2))"
     ],
     "language": "python",
     "metadata": {},
     "outputs": [
      {
       "output_type": "stream",
       "stream": "stdout",
       "text": [
        "\u0414\u043e\u0432\u0435\u0440\u0438\u0442\u0435\u043b\u044c\u043d\u044b\u0439 \u0438\u043d\u0442\u0435\u0440\u0432\u0430\u043b: [0.6434330210606112, 0.6448189789393888]. \u0414\u043b\u0438\u043d\u0430 = 0.0013859578787775995\n"
       ]
      },
      {
       "metadata": {},
       "output_type": "display_data",
       "png": "[encoded data removed]",
       "text": [
        "<matplotlib.figure.Figure at 0x7f06939f3860>"
       ]
      }
     ],
     "prompt_number": 6
    },
    {
     "cell_type": "code",
     "collapsed": false,
     "input": [
      "assert max(l1, l2) < min(r1, r2)  # \u041f\u0440\u043e\u0432\u0435\u0440\u0438\u043c, \u0447\u0442\u043e \u0434\u043e\u0432\u0435\u0440\u0438\u0442\u0435\u043b\u044c\u043d\u044b\u0435 \u0438\u043d\u0442\u0435\u0440\u0432\u0430\u043b\u044b \u043f\u0435\u0440\u0435\u0441\u0435\u043a\u0430\u044e\u0442\u0441\u044f\n",
      "print('\u0418\u043d\u0442\u0435\u0440\u0432\u0430\u043b\u044b \u043f\u0435\u0440\u0435\u0441\u0435\u043a\u0430\u044e\u0442\u0441\u044f.')\n",
      "print('\u0420\u0430\u0437\u043c\u0435\u0440 \u0434\u043e\u0432\u0435\u0440\u0438\u0442\u0435\u043b\u044c\u043d\u043e\u0433\u043e \u0438\u043d\u0442\u0435\u0440\u0432\u0430\u043b\u0430 \u0438\u0437\u043c\u0435\u043d\u0438\u043b\u0441\u044f \u0432 {} \u0440\u0430\u0437, \u0442.\u0435. \u043f\u0440\u043e\u0438\u0437\u043e\u0448\u043b\u043e \u0443\u0432\u0435\u043b\u0438\u0447\u0435\u043d\u0438\u0435 \u0442\u043e\u0447\u043d\u043e\u0441\u0442\u0438 \u0432 ~{} \u0440\u0430\u0437.'.format(len2/len1, int(round(len1/len2))))\n",
      "print('\u0418\u0442\u0430\u043a \u0438\u0441\u043a\u043e\u043c\u044b\u0439 \u0438\u043d\u0442\u0435\u0433\u0440\u0430\u043b \u043f\u0440\u0438\u043c\u0435\u0440\u043d\u043e \u0440\u0430\u0432\u0435\u043d: {:.3f}'.format((l2+r2)/2))"
     ],
     "language": "python",
     "metadata": {},
     "outputs": [
      {
       "output_type": "stream",
       "stream": "stdout",
       "text": [
        "\u0418\u043d\u0442\u0435\u0440\u0432\u0430\u043b\u044b \u043f\u0435\u0440\u0435\u0441\u0435\u043a\u0430\u044e\u0442\u0441\u044f.\n",
        "\u0420\u0430\u0437\u043c\u0435\u0440 \u0434\u043e\u0432\u0435\u0440\u0438\u0442\u0435\u043b\u044c\u043d\u043e\u0433\u043e \u0438\u043d\u0442\u0435\u0440\u0432\u0430\u043b\u0430 \u0438\u0437\u043c\u0435\u043d\u0438\u043b\u0441\u044f \u0432 0.09995743752708655 \u0440\u0430\u0437, \u0442.\u0435. \u043f\u0440\u043e\u0438\u0437\u043e\u0448\u043b\u043e \u0443\u0432\u0435\u043b\u0438\u0447\u0435\u043d\u0438\u0435 \u0442\u043e\u0447\u043d\u043e\u0441\u0442\u0438 \u0432 ~10 \u0440\u0430\u0437.\n",
        "\u0418\u0442\u0430\u043a \u0438\u0441\u043a\u043e\u043c\u044b\u0439 \u0438\u043d\u0442\u0435\u0433\u0440\u0430\u043b \u043f\u0440\u0438\u043c\u0435\u0440\u043d\u043e \u0440\u0430\u0432\u0435\u043d: 0.644\n"
       ]
      }
     ],
     "prompt_number": 7
    },
    {
     "cell_type": "markdown",
     "metadata": {},
     "source": [
      "##\u0417\u0430\u0434\u0430\u043d\u0438\u0435 2\n",
      "\u0410\u043d\u0430\u043b\u043e\u0433\u0438\u0447\u043d\u043e \u043f\u043e\u0441\u0442\u0440\u043e\u0438\u0442\u044c \u043e\u0446\u0435\u043d\u043a\u0443 \u0438\u043d\u0442\u0435\u0433\u0440\u0430\u043b\u043e\u0432 (\u043f\u0440\u0435\u0434\u0441\u0442\u0430\u0432\u0438\u0442\u044c \u0438\u043d\u0442\u0435\u0433\u0440\u0430\u043b \u043a\u0430\u043a \u043c\u0430\u0442\u0435\u043c\u0430\u0442\u0438\u0447\u0435\u0441\u043a\u043e\u0435 \u043e\u0436\u0438\u0434\u0430\u043d\u0438\u0435 \u0444\u0443\u043d\u043a\u0446\u0438\u0438, \u0437\u0430\u0432\u0438\u0441\u044f\u0449\u0435\u0439 \u043e\u0442 \u0441\u043b\u0443\u0447\u0430\u0439\u043d\u043e\u0439 \u0432\u0435\u043b\u0438\u0447\u0438\u043d\u044b \u0441 \u0438\u0437\u0432\u0435\u0441\u0442\u043d\u043e\u0439 \u043f\u043b\u043e\u0442\u043d\u043e\u0441\u0442\u044c\u044e) \u0438 \u0434\u043b\u044f \u0432\u044b\u0431\u0440\u0430\u043d\u043d\u043e\u0439 \u043d\u0430\u0434\u0435\u0436\u043d\u043e\u0441\u0442\u0438 \u0443\u043a\u0430\u0437\u0430\u0442\u044c gamma >= 0.95 \u0443\u043a\u0430\u0437\u0430\u0442\u044c \u0430\u0441\u0438\u043c\u043f\u0442\u043e\u0442\u0438\u0447\u0435\u0441\u043a\u0443\u044e \u0442\u043e\u0447\u043d\u043e\u0441\u0442\u044c \u043e\u0446\u0435\u043d\u0438\u0432\u0430\u043d\u0438\u044f \u0438 \u043f\u043e\u0441\u0442\u0440\u043e\u0438\u0442\u044c \u0430\u0441\u0438\u043c\u043f\u0442\u043e\u0442\u0438\u0447\u0435\u0441\u043a\u0438\u0439 \u0434\u043e\u0432\u0435\u0440\u0438\u0442\u0435\u043b\u044c\u043d\u044b\u0439 \u0438\u043d\u0442\u0435\u0440\u0432\u0430\u043b \u0434\u043b\u044f \u0438\u0441\u0442\u0438\u043d\u043d\u043e\u0433\u043e \u0437\u043d\u0430\u0447\u0435\u043d\u0438\u044f \u0438\u043d\u0442\u0435\u0433\u0440\u0430\u043b\u0430."
     ]
    },
    {
     "cell_type": "markdown",
     "metadata": {},
     "source": [
      "\u0412\u0430\u0440\u0438\u0430\u043d\u0442 14\n",
      "\n",
      "\u0430) $$\\int_{-\\infty}^{+\\infty}|x|exp(-(x-2)^2/3)dx$$\n",
      "\u0431) $$\\int_2^7\\sqrt[4]{2+x^2}dx$$"
     ]
    },
    {
     "cell_type": "markdown",
     "metadata": {},
     "source": [
      "<b>\u0430)</b> $$\\int_{-\\infty}^{+\\infty}|x|exp(-(x-2)^2/3)dx$$\n",
      "\u041f\u043e\u0434\u0438\u043d\u0442\u0435\u0433\u0440\u0430\u043b\u044c\u043d\u0430\u044f \u0444\u0443\u043d\u043a\u0446\u0438\u044f \u0441\u043e\u0432\u043f\u0430\u0434\u0430\u0435\u0442 \u0441 \u0444\u0443\u043d\u043a\u0446\u0438\u0435\u0439 \u043f\u043b\u043e\u0442\u043d\u043e\u0441\u0442\u0438 \u043d\u043e\u0440\u043c\u0430\u043b\u044c\u043d\u043e\u0433\u043e \u0440\u0430\u0441\u043f\u0440\u0435\u0434\u0435\u043b\u0435\u043d\u0438\u044f, \u0443\u043c\u043d\u043e\u0436\u0435\u043d\u043d\u043e\u0439 \u043d\u0430 \u0444\u0443\u043d\u043a\u0446\u0438\u044e |x| \u0438 \u043a\u043e\u043d\u0441\u0442\u0430\u043d\u0442\u0443 <b>const</b>\n",
      "$$\\sqrt{\\frac{3}{2}}\\sqrt{2\\pi}|x|=\\sqrt{3\\pi}|x|\\:\u0438\\:const=\\sqrt{3\\pi}$$\n",
      "\u0412 \u0434\u0430\u043d\u043d\u043e\u043c \u0441\u043b\u0443\u0447\u0430\u0435 \u043d\u043e\u0440\u043c\u0430\u043b\u044c\u043d\u043e\u0435 \u0440\u0430\u0441\u043f\u0440\u0435\u0434\u0435\u043b\u0435\u043d\u0438\u0435:\n",
      "$$N\\left(\\mu=2,\\sigma^2=\\frac{3}{2}\\right)\\,$$\n",
      "\u0422.\u043e. \u043d\u0430\u0441 \u0438\u043d\u0442\u0435\u0440\u0435\u0441\u0443\u0435\u0442 $$\\int_{-\\infty}^{+\\infty}f_N(x)|x|$$"
     ]
    },
    {
     "cell_type": "code",
     "collapsed": false,
     "input": [
      "n1, n2, m = 10**4, 10**6, 5\n",
      "mu, sigma = 2, (3/2) ** 0.5\n",
      "const = (3*math.pi) ** 0.5"
     ],
     "language": "python",
     "metadata": {},
     "outputs": [],
     "prompt_number": 8
    },
    {
     "cell_type": "code",
     "collapsed": false,
     "input": [
      "def get_interval2(n):\n",
      "    X = rand.normal(mu, sigma, (n, m))\n",
      "    Y = np.abs(X)\n",
      "    M, S = np.mean(Y, axis=-1), np.std(Y, axis=-1)\n",
      "    dM = norm.ppf((1 + gamma) / 2) * S / math.sqrt(n)\n",
      "    \n",
      "    plt.hist(Y[:, 0], color='#eeefff')\n",
      "    \n",
      "    I, dI = const * M, c * dM\n",
      "    return np.mean(I - dI), np.mean(I + dI)"
     ],
     "language": "python",
     "metadata": {},
     "outputs": [],
     "prompt_number": 9
    },
    {
     "cell_type": "code",
     "collapsed": false,
     "input": [
      "l1, r1 = get_interval2(n1)\n",
      "len1 = r1 - l1\n",
      "print('\u0414\u043e\u0432\u0435\u0440\u0438\u0442\u0435\u043b\u044c\u043d\u044b\u0439 \u0438\u043d\u0442\u0435\u0440\u0432\u0430\u043b: [{}, {}]. \u0414\u043b\u0438\u043d\u0430 = {}'.format(l1, r1, len1))"
     ],
     "language": "python",
     "metadata": {},
     "outputs": [
      {
       "output_type": "stream",
       "stream": "stdout",
       "text": [
        "\u0414\u043e\u0432\u0435\u0440\u0438\u0442\u0435\u043b\u044c\u043d\u044b\u0439 \u0438\u043d\u0442\u0435\u0440\u0432\u0430\u043b: [6.294445066085102, 6.34728521482934]. \u0414\u043b\u0438\u043d\u0430 = 0.052840148744238036\n"
       ]
      },
      {
       "metadata": {},
       "output_type": "display_data",
       "png": "[encoded data removed]",
       "text": [
        "<matplotlib.figure.Figure at 0x7f0693a31b38>"
       ]
      }
     ],
     "prompt_number": 10
    },
    {
     "cell_type": "code",
     "collapsed": false,
     "input": [
      "l2, r2 = get_interval2(n2)\n",
      "len2 = r2 - l2\n",
      "print('\u0414\u043e\u0432\u0435\u0440\u0438\u0442\u0435\u043b\u044c\u043d\u044b\u0439 \u0438\u043d\u0442\u0435\u0440\u0432\u0430\u043b: [{}, {}]. \u0414\u043b\u0438\u043d\u0430 = {}'.format(l2, r2, len2))"
     ],
     "language": "python",
     "metadata": {},
     "outputs": [
      {
       "output_type": "stream",
       "stream": "stdout",
       "text": [
        "\u0414\u043e\u0432\u0435\u0440\u0438\u0442\u0435\u043b\u044c\u043d\u044b\u0439 \u0438\u043d\u0442\u0435\u0440\u0432\u0430\u043b: [6.300903099394806, 6.306170682816221]. \u0414\u043b\u0438\u043d\u0430 = 0.00526758342141509\n"
       ]
      },
      {
       "metadata": {},
       "output_type": "display_data",
       "png": "[encoded data removed]",
       "text": [
        "<matplotlib.figure.Figure at 0x7f0692bbe7f0>"
       ]
      }
     ],
     "prompt_number": 11
    },
    {
     "cell_type": "code",
     "collapsed": false,
     "input": [
      "assert max(l1, l2) < min(r1, r2)  # \u041f\u0440\u043e\u0432\u0435\u0440\u0438\u043c, \u0447\u0442\u043e \u0434\u043e\u0432\u0435\u0440\u0438\u0442\u0435\u043b\u044c\u043d\u044b\u0435 \u0438\u043d\u0442\u0435\u0440\u0432\u0430\u043b\u044b \u043f\u0435\u0440\u0435\u0441\u0435\u043a\u0430\u044e\u0442\u0441\u044f\n",
      "print('\u0418\u043d\u0442\u0435\u0440\u0432\u0430\u043b\u044b \u043f\u0435\u0440\u0435\u0441\u0435\u043a\u0430\u044e\u0442\u0441\u044f.')\n",
      "print('\u0420\u0430\u0437\u043c\u0435\u0440 \u0434\u043e\u0432\u0435\u0440\u0438\u0442\u0435\u043b\u044c\u043d\u043e\u0433\u043e \u0438\u043d\u0442\u0435\u0440\u0432\u0430\u043b\u0430 \u0438\u0437\u043c\u0435\u043d\u0438\u043b\u0441\u044f \u0432 {} \u0440\u0430\u0437, \u0442.\u0435. \u043f\u0440\u043e\u0438\u0437\u043e\u0448\u043b\u043e \u0443\u0432\u0435\u043b\u0438\u0447\u0435\u043d\u0438\u0435 \u0442\u043e\u0447\u043d\u043e\u0441\u0442\u0438 \u0432 ~{} \u0440\u0430\u0437.'.format(len2/len1, int(round(len1/len2))))\n",
      "print('\u0418\u0442\u0430\u043a \u0438\u0441\u043a\u043e\u043c\u044b\u0439 \u0438\u043d\u0442\u0435\u0433\u0440\u0430\u043b \u043f\u0440\u0438\u043c\u0435\u0440\u043d\u043e \u0440\u0430\u0432\u0435\u043d: {:.3f}'.format((l2+r2)/2))"
     ],
     "language": "python",
     "metadata": {},
     "outputs": [
      {
       "output_type": "stream",
       "stream": "stdout",
       "text": [
        "\u0418\u043d\u0442\u0435\u0440\u0432\u0430\u043b\u044b \u043f\u0435\u0440\u0435\u0441\u0435\u043a\u0430\u044e\u0442\u0441\u044f.\n",
        "\u0420\u0430\u0437\u043c\u0435\u0440 \u0434\u043e\u0432\u0435\u0440\u0438\u0442\u0435\u043b\u044c\u043d\u043e\u0433\u043e \u0438\u043d\u0442\u0435\u0440\u0432\u0430\u043b\u0430 \u0438\u0437\u043c\u0435\u043d\u0438\u043b\u0441\u044f \u0432 0.09968903469427676 \u0440\u0430\u0437, \u0442.\u0435. \u043f\u0440\u043e\u0438\u0437\u043e\u0448\u043b\u043e \u0443\u0432\u0435\u043b\u0438\u0447\u0435\u043d\u0438\u0435 \u0442\u043e\u0447\u043d\u043e\u0441\u0442\u0438 \u0432 ~10 \u0440\u0430\u0437.\n",
        "\u0418\u0442\u0430\u043a \u0438\u0441\u043a\u043e\u043c\u044b\u0439 \u0438\u043d\u0442\u0435\u0433\u0440\u0430\u043b \u043f\u0440\u0438\u043c\u0435\u0440\u043d\u043e \u0440\u0430\u0432\u0435\u043d: 6.304\n"
       ]
      }
     ],
     "prompt_number": 12
    },
    {
     "cell_type": "markdown",
     "metadata": {},
     "source": [
      "<b>\u0431)</b> $$\\int_2^7\\sqrt[4]{2+x^2}dx$$"
     ]
    },
    {
     "cell_type": "code",
     "collapsed": false,
     "input": [
      "gamma = 0.95\n",
      "int_from, int_to = 2, 7\n",
      "f = lambda x: (2+x**2)**0.25\n",
      "\n",
      "m = 1000\n",
      "n1, n2 = 10**3, 10**4"
     ],
     "language": "python",
     "metadata": {},
     "outputs": [],
     "prompt_number": 13
    },
    {
     "cell_type": "code",
     "collapsed": false,
     "input": [
      "def get_interval3(n, m):\n",
      "    dx = (int_to - int_from) / n\n",
      "    X = int_from + rand.rand(n, m) * (int_to - int_from)\n",
      "    Y = np.sum(f(X), axis=0) * dx\n",
      "    \n",
      "    M, S = np.mean(Y), np.std(Y)\n",
      "    dM = norm.ppf((1 + gamma) / 2) * S / math.sqrt(n)\n",
      "    \n",
      "    return M-dM, M+dM"
     ],
     "language": "python",
     "metadata": {},
     "outputs": [],
     "prompt_number": 14
    },
    {
     "cell_type": "code",
     "collapsed": false,
     "input": [
      "l1, r1 = get_interval3(n1, m)\n",
      "len1 = r1 - l1\n",
      "print('\u0414\u043e\u0432\u0435\u0440\u0438\u0442\u0435\u043b\u044c\u043d\u044b\u0439 \u0438\u043d\u0442\u0435\u0440\u0432\u0430\u043b: [{}, {}]. \u0414\u043b\u0438\u043d\u0430 = {}'.format(l1, r1, len1))"
     ],
     "language": "python",
     "metadata": {},
     "outputs": [
      {
       "output_type": "stream",
       "stream": "stdout",
       "text": [
        "\u0414\u043e\u0432\u0435\u0440\u0438\u0442\u0435\u043b\u044c\u043d\u044b\u0439 \u0438\u043d\u0442\u0435\u0440\u0432\u0430\u043b: [10.766231602454855, 10.772727722348908]. \u0414\u043b\u0438\u043d\u0430 = 0.006496119894052299\n"
       ]
      }
     ],
     "prompt_number": 15
    },
    {
     "cell_type": "code",
     "collapsed": false,
     "input": [
      "l2, r2 = get_interval3(n2, m)\n",
      "len2 = r2 - l2\n",
      "print('\u0414\u043e\u0432\u0435\u0440\u0438\u0442\u0435\u043b\u044c\u043d\u044b\u0439 \u0438\u043d\u0442\u0435\u0440\u0432\u0430\u043b: [{}, {}]. \u0414\u043b\u0438\u043d\u0430 = {}'.format(l2, r2, len2))"
     ],
     "language": "python",
     "metadata": {},
     "outputs": [
      {
       "output_type": "stream",
       "stream": "stdout",
       "text": [
        "\u0414\u043e\u0432\u0435\u0440\u0438\u0442\u0435\u043b\u044c\u043d\u044b\u0439 \u0438\u043d\u0442\u0435\u0440\u0432\u0430\u043b: [10.76852641100846, 10.769151706269119]. \u0414\u043b\u0438\u043d\u0430 = 0.0006252952606580209\n"
       ]
      }
     ],
     "prompt_number": 16
    },
    {
     "cell_type": "code",
     "collapsed": false,
     "input": [
      "assert max(l1, l2) < min(r1, r2)  # \u041f\u0440\u043e\u0432\u0435\u0440\u0438\u043c, \u0447\u0442\u043e \u0434\u043e\u0432\u0435\u0440\u0438\u0442\u0435\u043b\u044c\u043d\u044b\u0435 \u0438\u043d\u0442\u0435\u0440\u0432\u0430\u043b\u044b \u043f\u0435\u0440\u0435\u0441\u0435\u043a\u0430\u044e\u0442\u0441\u044f\n",
      "print('\u0418\u043d\u0442\u0435\u0440\u0432\u0430\u043b\u044b \u043f\u0435\u0440\u0435\u0441\u0435\u043a\u0430\u044e\u0442\u0441\u044f.')\n",
      "print('\u0420\u0430\u0437\u043c\u0435\u0440 \u0434\u043e\u0432\u0435\u0440\u0438\u0442\u0435\u043b\u044c\u043d\u043e\u0433\u043e \u0438\u043d\u0442\u0435\u0440\u0432\u0430\u043b\u0430 \u0438\u0437\u043c\u0435\u043d\u0438\u043b\u0441\u044f \u0432 {} \u0440\u0430\u0437, \u0442.\u0435. \u043f\u0440\u043e\u0438\u0437\u043e\u0448\u043b\u043e \u0443\u0432\u0435\u043b\u0438\u0447\u0435\u043d\u0438\u0435 \u0442\u043e\u0447\u043d\u043e\u0441\u0442\u0438 \u0432 ~{} \u0440\u0430\u0437.'.format(len2/len1, int(round(len1/len2))))\n",
      "print('\u0418\u0442\u0430\u043a \u0438\u0441\u043a\u043e\u043c\u044b\u0439 \u0438\u043d\u0442\u0435\u0433\u0440\u0430\u043b \u043f\u0440\u0438\u043c\u0435\u0440\u043d\u043e \u0440\u0430\u0432\u0435\u043d: {:.3f}'.format((l2+r2)/2))"
     ],
     "language": "python",
     "metadata": {},
     "outputs": [
      {
       "output_type": "stream",
       "stream": "stdout",
       "text": [
        "\u0418\u043d\u0442\u0435\u0440\u0432\u0430\u043b\u044b \u043f\u0435\u0440\u0435\u0441\u0435\u043a\u0430\u044e\u0442\u0441\u044f.\n",
        "\u0420\u0430\u0437\u043c\u0435\u0440 \u0434\u043e\u0432\u0435\u0440\u0438\u0442\u0435\u043b\u044c\u043d\u043e\u0433\u043e \u0438\u043d\u0442\u0435\u0440\u0432\u0430\u043b\u0430 \u0438\u0437\u043c\u0435\u043d\u0438\u043b\u0441\u044f \u0432 0.09625673030304245 \u0440\u0430\u0437, \u0442.\u0435. \u043f\u0440\u043e\u0438\u0437\u043e\u0448\u043b\u043e \u0443\u0432\u0435\u043b\u0438\u0447\u0435\u043d\u0438\u0435 \u0442\u043e\u0447\u043d\u043e\u0441\u0442\u0438 \u0432 ~10 \u0440\u0430\u0437.\n",
        "\u0418\u0442\u0430\u043a \u0438\u0441\u043a\u043e\u043c\u044b\u0439 \u0438\u043d\u0442\u0435\u0433\u0440\u0430\u043b \u043f\u0440\u0438\u043c\u0435\u0440\u043d\u043e \u0440\u0430\u0432\u0435\u043d: 10.769\n"
       ]
      }
     ],
     "prompt_number": 17
    }
   ],
   "metadata": {}
  }
 ]
}