{
 "metadata": {
  "name": "",
  "signature": "sha256:0d0fc2959751021e5991017c512a4735e6f303096a60af559e64925f720d5c03"
 },
 "nbformat": 3,
 "nbformat_minor": 0,
 "worksheets": [
  {
   "cells": [
    {
     "cell_type": "code",
     "collapsed": false,
     "input": [
      "__author__ = 'PolarNick239'\n",
      "\n",
      "%matplotlib inline\n",
      "import numpy as np\n",
      "import matplotlib.pyplot as plt\n",
      "from numpy import array\n",
      "from pandas import DataFrame\n",
      "\n",
      "print('\u0420\u0430\u0431\u043e\u0442\u0443 \u0432\u044b\u043f\u043e\u043b\u043d\u0438\u043b \u041f\u043e\u043b\u044f\u0440\u043d\u044b\u0439 \u041a\u043e\u043b\u044f, \u0433\u0440\u0443\u043f\u043f\u0430 3539, \u0432\u0430\u0440\u0438\u0430\u043d\u0442 14.')"
     ],
     "language": "python",
     "metadata": {},
     "outputs": [
      {
       "output_type": "stream",
       "stream": "stdout",
       "text": [
        "\u0420\u0430\u0431\u043e\u0442\u0443 \u0432\u044b\u043f\u043e\u043b\u043d\u0438\u043b \u041f\u043e\u043b\u044f\u0440\u043d\u044b\u0439 \u041a\u043e\u043b\u044f, \u0433\u0440\u0443\u043f\u043f\u0430 3539, \u0432\u0430\u0440\u0438\u0430\u043d\u0442 14.\n"
       ]
      }
     ],
     "prompt_number": 1
    },
    {
     "cell_type": "code",
     "collapsed": false,
     "input": [
      "from IPython.display import HTML\n",
      "\n",
      "HTML('''<script>\n",
      "code_show=true; \n",
      "function code_toggle() {\n",
      " if (code_show){\n",
      " $('div.input').hide();\n",
      " } else {\n",
      " $('div.input').show();\n",
      " }\n",
      " code_show = !code_show\n",
      "}\n",
      "$( document ).ready(code_toggle);\n",
      "</script>\n",
      "<form action=\"javascript:code_toggle()\"><input type=\"submit\" value=\"\u041d\u0430\u0436\u043c\u0438\u0442\u0435 \u0437\u0434\u0435\u0441\u044c, \u0447\u0442\u043e\u0431\u044b \u043f\u043e\u043a\u0430\u0437\u0430\u0442\u044c/\u0441\u043a\u0440\u044b\u0442\u044c \u0438\u0441\u0445\u043e\u0434\u043d\u044b\u0439 \u043a\u043e\u0434.\"></form>''')"
     ],
     "language": "python",
     "metadata": {},
     "outputs": [
      {
       "html": [
        "<script>\n",
        "code_show=true; \n",
        "function code_toggle() {\n",
        " if (code_show){\n",
        " $('div.input').hide();\n",
        " } else {\n",
        " $('div.input').show();\n",
        " }\n",
        " code_show = !code_show\n",
        "}\n",
        "$( document ).ready(code_toggle);\n",
        "</script>\n",
        "<form action=\"javascript:code_toggle()\"><input type=\"submit\" value=\"\u041d\u0430\u0436\u043c\u0438\u0442\u0435 \u0437\u0434\u0435\u0441\u044c, \u0447\u0442\u043e\u0431\u044b \u043f\u043e\u043a\u0430\u0437\u0430\u0442\u044c/\u0441\u043a\u0440\u044b\u0442\u044c \u0438\u0441\u0445\u043e\u0434\u043d\u044b\u0439 \u043a\u043e\u0434.\"></form>"
       ],
       "metadata": {},
       "output_type": "pyout",
       "prompt_number": 2,
       "text": [
        "<IPython.core.display.HTML at 0x7f3e00070780>"
       ]
      }
     ],
     "prompt_number": 2
    },
    {
     "cell_type": "code",
     "collapsed": false,
     "input": [
      "ps = array([\n",
      "    [0.15, 0.25,  0.1],\n",
      "    [   0, 0.15, 0.15],\n",
      "    [0.05,    0, 0.15]])\n",
      "xs = array([-1, 0, 1])\n",
      "ys = array([-2, 1, 2])\n",
      "\n",
      "#ps = array([\n",
      "#    [0.15, 0.05,  0.1, 0],\n",
      "#    [0.05, 0.1, 0.2, 0.15],\n",
      "#    [0.1, 0.05, 0, 0.05]])\n",
      "#xs = array([0, 2, 4, 6])\n",
      "#ys = array([-2, 0, 2])\n",
      "\n",
      "\n",
      "print('\u0417\u0430\u0434\u0430\u043d\u0438\u0435:\\n\\\n",
      "1.1. \u041d\u0430\u0439\u0442\u0438 \u0443\u0441\u043b\u043e\u0432\u043d\u043e\u0435 \u043c\u0430\u0442\u0435\u043c\u0430\u0442\u0438\u0447\u0435\u0441\u043a\u043e\u0435 \u043e\u0436\u0438\u0434\u0430\u043d\u0438\u0435 E(X|Y).\\n\\\n",
      "1.2. \u041d\u0430\u0439\u0442\u0438 \u0443\u0441\u043b\u043e\u0432\u043d\u043e\u0435 \u043c\u0430\u0442\u0435\u043c\u0430\u0442\u0438\u0447\u0435\u0441\u043a\u043e\u0435 \u043e\u0436\u0438\u0434\u0430\u043d\u0438\u0435 E(Y|X).\\n\\\n",
      "2.   \u041d\u0430\u0439\u0442\u0438 \u043c\u0430\u0442\u0435\u043c\u0430\u0442\u0438\u0447\u0435\u0441\u043a\u043e\u0435 \u043e\u0436\u0438\u0434\u0430\u043d\u0438\u0435 \u044d\u0442\u0438\u0445 \u0441\u043b\u0443\u0447\u0430\u0439\u043d\u044b\u0445 \u0432\u0435\u043b\u0438\u0447\u0438\u043d.\\n\\\n",
      "3.   \u041f\u0440\u043e\u0432\u0435\u0440\u0438\u0442\u044c \u0444\u043e\u0440\u043c\u0443\u043b\u0443 \u043f\u043e\u043b\u043d\u043e\u0433\u043e \u043c\u0430\u0442\u0435\u043c\u0430\u0442\u0438\u0447\u0435\u0441\u043a\u043e\u0433\u043e \u043e\u0436\u0438\u0434\u0430\u043d\u0438\u044f.\\n\\\n",
      "4.   \u041f\u043e\u0441\u0442\u0440\u043e\u0438\u0442\u044c \u043b\u0438\u043d\u0435\u0439\u043d\u0443\u044e \u0440\u0435\u0433\u0440\u0435\u0441\u0441\u0438\u044e X \u043d\u0430 Y \u0438 Y \u043d\u0430 X.\\n\\\n",
      "5.   \u0412\u044b\u0447\u0438\u0441\u043b\u0438\u0442\u044c \u0437\u043d\u0430\u0447\u0435\u043d\u0438\u044f \u044d\u0442\u0438\u0445 \u0444\u0443\u043d\u043a\u0446\u0438\u0439 \u0432 \u0442\u043e\u0447\u043a\u0430\u0445 xi \u0438 yj.\\n')\n",
      "print('\u0420\u0430\u0441\u043f\u0440\u0435\u0434\u0435\u043b\u0435\u043d\u0438\u0435 \u0441\u0438\u0441\u0442\u0435\u043c\u044b \u0434\u0438\u0441\u043a\u0440\u0435\u0442\u043d\u044b\u0445 \u0441\u043b\u0443\u0447\u0430\u0439\u043d\u044b\u0445 \u0432\u0435\u043b\u0438\u0447\u0438\u043d (X,Y) \u0437\u0430\u0434\u0430\u043d\u043e \u0442\u0430\u0431\u043b\u0438\u0446\u0435\u0439:')\n",
      "DataFrame(data=ps, index=['Y = {}'.format(y) for y in ys], columns=['X = {}'.format(x) for x in xs])"
     ],
     "language": "python",
     "metadata": {},
     "outputs": [
      {
       "output_type": "stream",
       "stream": "stdout",
       "text": [
        "\u0417\u0430\u0434\u0430\u043d\u0438\u0435:\n",
        "1.1. \u041d\u0430\u0439\u0442\u0438 \u0443\u0441\u043b\u043e\u0432\u043d\u043e\u0435 \u043c\u0430\u0442\u0435\u043c\u0430\u0442\u0438\u0447\u0435\u0441\u043a\u043e\u0435 \u043e\u0436\u0438\u0434\u0430\u043d\u0438\u0435 E(X|Y).\n",
        "1.2. \u041d\u0430\u0439\u0442\u0438 \u0443\u0441\u043b\u043e\u0432\u043d\u043e\u0435 \u043c\u0430\u0442\u0435\u043c\u0430\u0442\u0438\u0447\u0435\u0441\u043a\u043e\u0435 \u043e\u0436\u0438\u0434\u0430\u043d\u0438\u0435 E(Y|X).\n",
        "2.   \u041d\u0430\u0439\u0442\u0438 \u043c\u0430\u0442\u0435\u043c\u0430\u0442\u0438\u0447\u0435\u0441\u043a\u043e\u0435 \u043e\u0436\u0438\u0434\u0430\u043d\u0438\u0435 \u044d\u0442\u0438\u0445 \u0441\u043b\u0443\u0447\u0430\u0439\u043d\u044b\u0445 \u0432\u0435\u043b\u0438\u0447\u0438\u043d.\n",
        "3.   \u041f\u0440\u043e\u0432\u0435\u0440\u0438\u0442\u044c \u0444\u043e\u0440\u043c\u0443\u043b\u0443 \u043f\u043e\u043b\u043d\u043e\u0433\u043e \u043c\u0430\u0442\u0435\u043c\u0430\u0442\u0438\u0447\u0435\u0441\u043a\u043e\u0433\u043e \u043e\u0436\u0438\u0434\u0430\u043d\u0438\u044f.\n",
        "4.   \u041f\u043e\u0441\u0442\u0440\u043e\u0438\u0442\u044c \u043b\u0438\u043d\u0435\u0439\u043d\u0443\u044e \u0440\u0435\u0433\u0440\u0435\u0441\u0441\u0438\u044e X \u043d\u0430 Y \u0438 Y \u043d\u0430 X.\n",
        "5.   \u0412\u044b\u0447\u0438\u0441\u043b\u0438\u0442\u044c \u0437\u043d\u0430\u0447\u0435\u043d\u0438\u044f \u044d\u0442\u0438\u0445 \u0444\u0443\u043d\u043a\u0446\u0438\u0439 \u0432 \u0442\u043e\u0447\u043a\u0430\u0445 xi \u0438 yj.\n",
        "\n",
        "\u0420\u0430\u0441\u043f\u0440\u0435\u0434\u0435\u043b\u0435\u043d\u0438\u0435 \u0441\u0438\u0441\u0442\u0435\u043c\u044b \u0434\u0438\u0441\u043a\u0440\u0435\u0442\u043d\u044b\u0445 \u0441\u043b\u0443\u0447\u0430\u0439\u043d\u044b\u0445 \u0432\u0435\u043b\u0438\u0447\u0438\u043d (X,Y) \u0437\u0430\u0434\u0430\u043d\u043e \u0442\u0430\u0431\u043b\u0438\u0446\u0435\u0439:\n"
       ]
      },
      {
       "html": [
        "<div style=\"max-height:1000px;max-width:1500px;overflow:auto;\">\n",
        "<table border=\"1\" class=\"dataframe\">\n",
        "  <thead>\n",
        "    <tr style=\"text-align: right;\">\n",
        "      <th></th>\n",
        "      <th>X = -1</th>\n",
        "      <th>X = 0</th>\n",
        "      <th>X = 1</th>\n",
        "    </tr>\n",
        "  </thead>\n",
        "  <tbody>\n",
        "    <tr>\n",
        "      <th>Y = -2</th>\n",
        "      <td> 0.15</td>\n",
        "      <td> 0.25</td>\n",
        "      <td> 0.10</td>\n",
        "    </tr>\n",
        "    <tr>\n",
        "      <th>Y = 1</th>\n",
        "      <td> 0.00</td>\n",
        "      <td> 0.15</td>\n",
        "      <td> 0.15</td>\n",
        "    </tr>\n",
        "    <tr>\n",
        "      <th>Y = 2</th>\n",
        "      <td> 0.05</td>\n",
        "      <td> 0.00</td>\n",
        "      <td> 0.15</td>\n",
        "    </tr>\n",
        "  </tbody>\n",
        "</table>\n",
        "</div>"
       ],
       "metadata": {},
       "output_type": "pyout",
       "prompt_number": 3,
       "text": [
        "        X = -1  X = 0  X = 1\n",
        "Y = -2    0.15   0.25   0.10\n",
        "Y = 1     0.00   0.15   0.15\n",
        "Y = 2     0.05   0.00   0.15"
       ]
      }
     ],
     "prompt_number": 3
    },
    {
     "cell_type": "code",
     "collapsed": false,
     "input": [
      "print('1.1. \u041d\u0430\u0439\u0434\u0435\u043c \u0443\u0441\u043b\u043e\u0432\u043d\u043e\u0435 \u043c\u0430\u0442\u0435\u043c\u0430\u0442\u0438\u0447\u0435\u0441\u043a\u043e\u0435 \u043e\u0436\u0438\u0434\u0430\u043d\u0438\u0435 E(X | Y):')\n",
      "xyps = array([[ps[yi, xi]/np.sum(ps[yi, :])\n",
      "               for yi, y in enumerate(ys)]\n",
      "                  for xi, x in enumerate(xs)]).T\n",
      "DataFrame(data=xyps,\n",
      "          index=['p(X | Y = {})'.format(y) for y in ys],\n",
      "          columns=['X = {}'.format(x) for x in xs])"
     ],
     "language": "python",
     "metadata": {},
     "outputs": [
      {
       "output_type": "stream",
       "stream": "stdout",
       "text": [
        "1.1. \u041d\u0430\u0439\u0434\u0435\u043c \u0443\u0441\u043b\u043e\u0432\u043d\u043e\u0435 \u043c\u0430\u0442\u0435\u043c\u0430\u0442\u0438\u0447\u0435\u0441\u043a\u043e\u0435 \u043e\u0436\u0438\u0434\u0430\u043d\u0438\u0435 E(X | Y):\n"
       ]
      },
      {
       "html": [
        "<div style=\"max-height:1000px;max-width:1500px;overflow:auto;\">\n",
        "<table border=\"1\" class=\"dataframe\">\n",
        "  <thead>\n",
        "    <tr style=\"text-align: right;\">\n",
        "      <th></th>\n",
        "      <th>X = -1</th>\n",
        "      <th>X = 0</th>\n",
        "      <th>X = 1</th>\n",
        "    </tr>\n",
        "  </thead>\n",
        "  <tbody>\n",
        "    <tr>\n",
        "      <th>p(X | Y = -2)</th>\n",
        "      <td> 0.30</td>\n",
        "      <td> 0.5</td>\n",
        "      <td> 0.20</td>\n",
        "    </tr>\n",
        "    <tr>\n",
        "      <th>p(X | Y = 1)</th>\n",
        "      <td> 0.00</td>\n",
        "      <td> 0.5</td>\n",
        "      <td> 0.50</td>\n",
        "    </tr>\n",
        "    <tr>\n",
        "      <th>p(X | Y = 2)</th>\n",
        "      <td> 0.25</td>\n",
        "      <td> 0.0</td>\n",
        "      <td> 0.75</td>\n",
        "    </tr>\n",
        "  </tbody>\n",
        "</table>\n",
        "</div>"
       ],
       "metadata": {},
       "output_type": "pyout",
       "prompt_number": 4,
       "text": [
        "               X = -1  X = 0  X = 1\n",
        "p(X | Y = -2)    0.30    0.5   0.20\n",
        "p(X | Y = 1)     0.00    0.5   0.50\n",
        "p(X | Y = 2)     0.25    0.0   0.75"
       ]
      }
     ],
     "prompt_number": 4
    },
    {
     "cell_type": "code",
     "collapsed": false,
     "input": [
      "EXfromY = np.sum(xyps * xs, axis=1)\n",
      "DataFrame(data=array([EXfromY, np.sum(ps, axis=1)]),\n",
      "          index=['E(X | Y)', 'p'],\n",
      "          columns=['Y = {}'.format(y) for y in ys])"
     ],
     "language": "python",
     "metadata": {},
     "outputs": [
      {
       "html": [
        "<div style=\"max-height:1000px;max-width:1500px;overflow:auto;\">\n",
        "<table border=\"1\" class=\"dataframe\">\n",
        "  <thead>\n",
        "    <tr style=\"text-align: right;\">\n",
        "      <th></th>\n",
        "      <th>Y = -2</th>\n",
        "      <th>Y = 1</th>\n",
        "      <th>Y = 2</th>\n",
        "    </tr>\n",
        "  </thead>\n",
        "  <tbody>\n",
        "    <tr>\n",
        "      <th>E(X | Y)</th>\n",
        "      <td>-0.1</td>\n",
        "      <td> 0.5</td>\n",
        "      <td> 0.5</td>\n",
        "    </tr>\n",
        "    <tr>\n",
        "      <th>p</th>\n",
        "      <td> 0.5</td>\n",
        "      <td> 0.3</td>\n",
        "      <td> 0.2</td>\n",
        "    </tr>\n",
        "  </tbody>\n",
        "</table>\n",
        "</div>"
       ],
       "metadata": {},
       "output_type": "pyout",
       "prompt_number": 5,
       "text": [
        "          Y = -2  Y = 1  Y = 2\n",
        "E(X | Y)    -0.1    0.5    0.5\n",
        "p            0.5    0.3    0.2"
       ]
      }
     ],
     "prompt_number": 5
    },
    {
     "cell_type": "code",
     "collapsed": false,
     "input": [
      "print('1.2. \u041d\u0430\u0439\u0434\u0435\u043c \u0443\u0441\u043b\u043e\u0432\u043d\u043e\u0435 \u043c\u0430\u0442\u0435\u043c\u0430\u0442\u0438\u0447\u0435\u0441\u043a\u043e\u0435 \u043e\u0436\u0438\u0434\u0430\u043d\u0438\u0435 E(Y | X):')\n",
      "yxps = array([[ps[yi, xi]/np.sum(ps[:, xi])\n",
      "               for xi, x in enumerate(xs)]\n",
      "                  for yi, y in enumerate(ys)]).T\n",
      "DataFrame(data=yxps,\n",
      "          index=['p(Y | X = {})'.format(x) for x in xs],\n",
      "          columns=['Y = {}'.format(y) for y in ys])"
     ],
     "language": "python",
     "metadata": {},
     "outputs": [
      {
       "output_type": "stream",
       "stream": "stdout",
       "text": [
        "1.2. \u041d\u0430\u0439\u0434\u0435\u043c \u0443\u0441\u043b\u043e\u0432\u043d\u043e\u0435 \u043c\u0430\u0442\u0435\u043c\u0430\u0442\u0438\u0447\u0435\u0441\u043a\u043e\u0435 \u043e\u0436\u0438\u0434\u0430\u043d\u0438\u0435 E(Y | X):\n"
       ]
      },
      {
       "html": [
        "<div style=\"max-height:1000px;max-width:1500px;overflow:auto;\">\n",
        "<table border=\"1\" class=\"dataframe\">\n",
        "  <thead>\n",
        "    <tr style=\"text-align: right;\">\n",
        "      <th></th>\n",
        "      <th>Y = -2</th>\n",
        "      <th>Y = 1</th>\n",
        "      <th>Y = 2</th>\n",
        "    </tr>\n",
        "  </thead>\n",
        "  <tbody>\n",
        "    <tr>\n",
        "      <th>p(Y | X = -1)</th>\n",
        "      <td> 0.750</td>\n",
        "      <td> 0.000</td>\n",
        "      <td> 0.250</td>\n",
        "    </tr>\n",
        "    <tr>\n",
        "      <th>p(Y | X = 0)</th>\n",
        "      <td> 0.625</td>\n",
        "      <td> 0.375</td>\n",
        "      <td> 0.000</td>\n",
        "    </tr>\n",
        "    <tr>\n",
        "      <th>p(Y | X = 1)</th>\n",
        "      <td> 0.250</td>\n",
        "      <td> 0.375</td>\n",
        "      <td> 0.375</td>\n",
        "    </tr>\n",
        "  </tbody>\n",
        "</table>\n",
        "</div>"
       ],
       "metadata": {},
       "output_type": "pyout",
       "prompt_number": 6,
       "text": [
        "               Y = -2  Y = 1  Y = 2\n",
        "p(Y | X = -1)   0.750  0.000  0.250\n",
        "p(Y | X = 0)    0.625  0.375  0.000\n",
        "p(Y | X = 1)    0.250  0.375  0.375"
       ]
      }
     ],
     "prompt_number": 6
    },
    {
     "cell_type": "code",
     "collapsed": false,
     "input": [
      "EYfromX = np.sum(yxps * ys, axis=1)\n",
      "DataFrame(data=array([EYfromX, np.sum(ps, axis=0)]),\n",
      "          index=['E(Y | X)', 'p'],\n",
      "          columns=['X = {}'.format(x) for x in xs])"
     ],
     "language": "python",
     "metadata": {},
     "outputs": [
      {
       "html": [
        "<div style=\"max-height:1000px;max-width:1500px;overflow:auto;\">\n",
        "<table border=\"1\" class=\"dataframe\">\n",
        "  <thead>\n",
        "    <tr style=\"text-align: right;\">\n",
        "      <th></th>\n",
        "      <th>X = -1</th>\n",
        "      <th>X = 0</th>\n",
        "      <th>X = 1</th>\n",
        "    </tr>\n",
        "  </thead>\n",
        "  <tbody>\n",
        "    <tr>\n",
        "      <th>E(Y | X)</th>\n",
        "      <td>-1.0</td>\n",
        "      <td>-0.875</td>\n",
        "      <td> 0.625</td>\n",
        "    </tr>\n",
        "    <tr>\n",
        "      <th>p</th>\n",
        "      <td> 0.2</td>\n",
        "      <td> 0.400</td>\n",
        "      <td> 0.400</td>\n",
        "    </tr>\n",
        "  </tbody>\n",
        "</table>\n",
        "</div>"
       ],
       "metadata": {},
       "output_type": "pyout",
       "prompt_number": 7,
       "text": [
        "          X = -1  X = 0  X = 1\n",
        "E(Y | X)    -1.0 -0.875  0.625\n",
        "p            0.2  0.400  0.400"
       ]
      }
     ],
     "prompt_number": 7
    },
    {
     "cell_type": "code",
     "collapsed": false,
     "input": [
      "print('2.   \u041d\u0430\u0439\u0434\u0435\u043c \u043c\u0430\u0442\u0435\u043c\u0430\u0442\u0438\u0447\u0435\u0441\u043a\u043e\u0435 \u043e\u0436\u0438\u0434\u0430\u043d\u0438\u0435 \u044d\u0442\u0438\u0445 \u0441\u043b\u0443\u0447\u0430\u0439\u043d\u044b\u0445 \u0432\u0435\u043b\u0438\u0447\u0438\u043d:')\n",
      "print('3.   \u041f\u0440\u043e\u0432\u0435\u0440\u0438\u043c \u0444\u043e\u0440\u043c\u0443\u043b\u0443 \u043f\u043e\u043b\u043d\u043e\u0433\u043e \u043c\u0430\u0442\u0435\u043c\u0430\u0442\u0438\u0447\u0435\u0441\u043a\u043e\u0433\u043e \u043e\u0436\u0438\u0434\u0430\u043d\u0438\u044f:\\n')\n",
      "\n",
      "print('E(E(X | Y)) = {:.2f}'.format(np.sum(array([xyps[:, xi] * x for xi, x in enumerate(xs)]) * np.sum(ps, axis=1))))\n",
      "print('\u0427\u0442\u043e \u0441\u043e\u0432\u043f\u0430\u0434\u0430\u0435\u0442 \u0441:')\n",
      "EX = np.sum([x * ps[:, xi] for xi, x in enumerate(xs)])\n",
      "print('E(X) = {:.2f}\\n'.format(EX))\n",
      "\n",
      "print('E(E(Y | X)) = {:.2f}'.format(np.sum(array([yxps[:, yi] * y for yi, y in enumerate(ys)]) * np.sum(ps, axis=0))))\n",
      "print('\u0427\u0442\u043e \u0441\u043e\u0432\u043f\u0430\u0434\u0430\u0435\u0442 \u0441:')\n",
      "EY = np.sum([y * ps[yi, :] for yi, y in enumerate(ys)])\n",
      "print('E(Y) = {:.2f}'.format(EY))"
     ],
     "language": "python",
     "metadata": {},
     "outputs": [
      {
       "output_type": "stream",
       "stream": "stdout",
       "text": [
        "2.   \u041d\u0430\u0439\u0434\u0435\u043c \u043c\u0430\u0442\u0435\u043c\u0430\u0442\u0438\u0447\u0435\u0441\u043a\u043e\u0435 \u043e\u0436\u0438\u0434\u0430\u043d\u0438\u0435 \u044d\u0442\u0438\u0445 \u0441\u043b\u0443\u0447\u0430\u0439\u043d\u044b\u0445 \u0432\u0435\u043b\u0438\u0447\u0438\u043d:\n",
        "3.   \u041f\u0440\u043e\u0432\u0435\u0440\u0438\u043c \u0444\u043e\u0440\u043c\u0443\u043b\u0443 \u043f\u043e\u043b\u043d\u043e\u0433\u043e \u043c\u0430\u0442\u0435\u043c\u0430\u0442\u0438\u0447\u0435\u0441\u043a\u043e\u0433\u043e \u043e\u0436\u0438\u0434\u0430\u043d\u0438\u044f:\n",
        "\n",
        "E(E(X | Y)) = 0.20\n",
        "\u0427\u0442\u043e \u0441\u043e\u0432\u043f\u0430\u0434\u0430\u0435\u0442 \u0441:\n",
        "E(X) = 0.20\n",
        "\n",
        "E(E(Y | X)) = -0.30\n",
        "\u0427\u0442\u043e \u0441\u043e\u0432\u043f\u0430\u0434\u0430\u0435\u0442 \u0441:\n",
        "E(Y) = -0.30\n"
       ]
      }
     ],
     "prompt_number": 8
    },
    {
     "cell_type": "code",
     "collapsed": false,
     "input": [
      "print('4.   \u041f\u043e\u0441\u0442\u0440\u043e\u0438\u043c \u043b\u0438\u043d\u0435\u0439\u043d\u0443\u044e \u0440\u0435\u0433\u0440\u0435\u0441\u0441\u0438\u044e X \u043d\u0430 Y \u0438 Y \u043d\u0430 X:')\n",
      "print('\u0414\u043b\u044f \u044d\u0442\u043e\u0433\u043e \u043d\u0430\u0439\u0434\u0435\u043c \u043a\u043e\u0432\u0430\u0440\u0438\u0430\u0446\u0438\u044e DX, DY \u0438 K(X, Y) = E(X, Y) - EX * EY:')\n",
      "EXY = np.sum([[ps[yi, xi] * x * y for xi, x in enumerate(xs)] for yi, y in enumerate(ys)])\n",
      "print('E(X, Y) = {:.2f}'.format(EXY))\n",
      "KXY = EXY - EX * EY\n",
      "print('K(X, Y) = {:.2f}'.format(KXY))\n",
      "EX2 = np.sum([x**2 * ps[:, xi] for xi, x in enumerate(xs)])\n",
      "DX = EX2 - EX**2\n",
      "print('DX = {:.2f}'.format(DX))\n",
      "EY2 = np.sum([y**2 * ps[yi, :] for yi, y in enumerate(ys)])\n",
      "DY = EY2 - EY**2\n",
      "print('DY = {:.2f}'.format(DY))"
     ],
     "language": "python",
     "metadata": {},
     "outputs": [
      {
       "output_type": "stream",
       "stream": "stdout",
       "text": [
        "4.   \u041f\u043e\u0441\u0442\u0440\u043e\u0438\u043c \u043b\u0438\u043d\u0435\u0439\u043d\u0443\u044e \u0440\u0435\u0433\u0440\u0435\u0441\u0441\u0438\u044e X \u043d\u0430 Y \u0438 Y \u043d\u0430 X:\n",
        "\u0414\u043b\u044f \u044d\u0442\u043e\u0433\u043e \u043d\u0430\u0439\u0434\u0435\u043c \u043a\u043e\u0432\u0430\u0440\u0438\u0430\u0446\u0438\u044e DX, DY \u0438 K(X, Y) = E(X, Y) - EX * EY:\n",
        "E(X, Y) = 0.45\n",
        "K(X, Y) = 0.51\n",
        "DX = 0.56\n",
        "DY = 3.01\n"
       ]
      }
     ],
     "prompt_number": 9
    },
    {
     "cell_type": "code",
     "collapsed": false,
     "input": [
      "print('\u041b\u0438\u043d\u0435\u0439\u043d\u0430\u044f \u0440\u0435\u0433\u0440\u0435\u0441\u0441\u0438\u044f Y \u043f\u043e X:')\n",
      "print('g(x) = a1 * x + b1, \u0433\u0434\u0435 a1 = K(X, Y)/DX \u0438 b1 = EY - a1*EX')\n",
      "a1 = KXY/DX\n",
      "b1 = EY - a1 * EX\n",
      "print('a1={:.4f}, b1={:.4f}'.format(a1, b1))\n",
      "print('\u0422.\u043e. y = {:.4f} * x + {:.4f}:'.format(a1, b1))\n",
      "plt.xlabel('X axis')\n",
      "plt.ylabel('Y axis')\n",
      "plt.suptitle('g(x) = {:.4f} * x + {:.4f}:'.format(a1, b1))\n",
      "plt.plot(xs, a1 * xs + b1)\n",
      "plt.plot(xs, EYfromX, 'ro');"
     ],
     "language": "python",
     "metadata": {},
     "outputs": [
      {
       "output_type": "stream",
       "stream": "stdout",
       "text": [
        "\u041b\u0438\u043d\u0435\u0439\u043d\u0430\u044f \u0440\u0435\u0433\u0440\u0435\u0441\u0441\u0438\u044f Y \u043f\u043e X:\n",
        "g(x) = a1 * x + b1, \u0433\u0434\u0435 a1 = K(X, Y)/DX \u0438 b1 = EY - a1*EX\n",
        "a1=0.9107, b1=-0.4821\n",
        "\u0422.\u043e. y = 0.9107 * x + -0.4821:\n"
       ]
      },
      {
       "metadata": {},
       "output_type": "display_data",
       "png": "[encoded data removed]",
       "text": [
        "<matplotlib.figure.Figure at 0x7f3df38f0588>"
       ]
      }
     ],
     "prompt_number": 10
    },
    {
     "cell_type": "code",
     "collapsed": false,
     "input": [
      "print('\u041b\u0438\u043d\u0435\u0439\u043d\u0430\u044f \u0440\u0435\u0433\u0440\u0435\u0441\u0441\u0438\u044f X \u043f\u043e Y:')\n",
      "print('h(y) = a2 * y + b2, \u0433\u0434\u0435 a2 = K(X, Y)/DY \u0438 b2 = EX - a2*EY')\n",
      "a2 = KXY/DY\n",
      "b2 = EX - a2 * EY\n",
      "print('a2={:.4f}, b2={:.4f}'.format(a2, b2))\n",
      "print('\u0422.\u043e. x = {:.4f} * y + {:.4f}:'.format(a2, b2))\n",
      "plt.xlabel('Y axis')\n",
      "plt.ylabel('X axis')\n",
      "plt.suptitle('h(y) = {:.4f} * y + {:.4f}:'.format(a2, b2))\n",
      "plt.plot(ys, a2 * ys + b2)\n",
      "plt.plot(ys, EXfromY, 'ro');"
     ],
     "language": "python",
     "metadata": {},
     "outputs": [
      {
       "output_type": "stream",
       "stream": "stdout",
       "text": [
        "\u041b\u0438\u043d\u0435\u0439\u043d\u0430\u044f \u0440\u0435\u0433\u0440\u0435\u0441\u0441\u0438\u044f X \u043f\u043e Y:\n",
        "h(y) = a2 * y + b2, \u0433\u0434\u0435 a2 = K(X, Y)/DY \u0438 b2 = EX - a2*EY\n",
        "a2=0.1694, b2=0.2508\n",
        "\u0422.\u043e. x = 0.1694 * y + 0.2508:\n"
       ]
      },
      {
       "metadata": {},
       "output_type": "display_data",
       "png": "[encoded data removed]",
       "text": [
        "<matplotlib.figure.Figure at 0x7f3df38f0198>"
       ]
      }
     ],
     "prompt_number": 11
    },
    {
     "cell_type": "code",
     "collapsed": false,
     "input": [
      "print('5.   \u0412\u044b\u0447\u0438\u0441\u043b\u0438\u043c \u0437\u043d\u0430\u0447\u0435\u043d\u0438\u044f \u044d\u0442\u0438\u0445 \u0444\u0443\u043d\u043a\u0446\u0438\u0439 \u0432 \u0442\u043e\u0447\u043a\u0430\u0445 xi \u0438 yj:')\n",
      "DataFrame(data=(a1 * xs + b1).reshape(-1, len(xs)),\n",
      "          index=['g(x) = {:.4f} * x + {:.4f}:'.format(a1, b1)],\n",
      "          columns=['X = {}'.format(x) for x in xs])"
     ],
     "language": "python",
     "metadata": {},
     "outputs": [
      {
       "output_type": "stream",
       "stream": "stdout",
       "text": [
        "5.   \u0412\u044b\u0447\u0438\u0441\u043b\u0438\u043c \u0437\u043d\u0430\u0447\u0435\u043d\u0438\u044f \u044d\u0442\u0438\u0445 \u0444\u0443\u043d\u043a\u0446\u0438\u0439 \u0432 \u0442\u043e\u0447\u043a\u0430\u0445 xi \u0438 yj:\n"
       ]
      },
      {
       "html": [
        "<div style=\"max-height:1000px;max-width:1500px;overflow:auto;\">\n",
        "<table border=\"1\" class=\"dataframe\">\n",
        "  <thead>\n",
        "    <tr style=\"text-align: right;\">\n",
        "      <th></th>\n",
        "      <th>X = -1</th>\n",
        "      <th>X = 0</th>\n",
        "      <th>X = 1</th>\n",
        "    </tr>\n",
        "  </thead>\n",
        "  <tbody>\n",
        "    <tr>\n",
        "      <th>g(x) = 0.9107 * x + -0.4821:</th>\n",
        "      <td>-1.392857</td>\n",
        "      <td>-0.482143</td>\n",
        "      <td> 0.428571</td>\n",
        "    </tr>\n",
        "  </tbody>\n",
        "</table>\n",
        "</div>"
       ],
       "metadata": {},
       "output_type": "pyout",
       "prompt_number": 12,
       "text": [
        "                                X = -1     X = 0     X = 1\n",
        "g(x) = 0.9107 * x + -0.4821: -1.392857 -0.482143  0.428571"
       ]
      }
     ],
     "prompt_number": 12
    },
    {
     "cell_type": "code",
     "collapsed": false,
     "input": [
      "DataFrame(data=(a2 * ys + b2).reshape(-1, len(ys)),\n",
      "          index=['h(y) = {:.4f} * y + {:.4f}:'.format(a2, b2)],\n",
      "          columns=['Y = {}'.format(y) for y in ys])"
     ],
     "language": "python",
     "metadata": {},
     "outputs": [
      {
       "html": [
        "<div style=\"max-height:1000px;max-width:1500px;overflow:auto;\">\n",
        "<table border=\"1\" class=\"dataframe\">\n",
        "  <thead>\n",
        "    <tr style=\"text-align: right;\">\n",
        "      <th></th>\n",
        "      <th>Y = -2</th>\n",
        "      <th>Y = 1</th>\n",
        "      <th>Y = 2</th>\n",
        "    </tr>\n",
        "  </thead>\n",
        "  <tbody>\n",
        "    <tr>\n",
        "      <th>h(y) = 0.1694 * y + 0.2508:</th>\n",
        "      <td>-0.08804</td>\n",
        "      <td> 0.420266</td>\n",
        "      <td> 0.589701</td>\n",
        "    </tr>\n",
        "  </tbody>\n",
        "</table>\n",
        "</div>"
       ],
       "metadata": {},
       "output_type": "pyout",
       "prompt_number": 13,
       "text": [
        "                              Y = -2     Y = 1     Y = 2\n",
        "h(y) = 0.1694 * y + 0.2508: -0.08804  0.420266  0.589701"
       ]
      }
     ],
     "prompt_number": 13
    }
   ],
   "metadata": {}
  }
 ]
}